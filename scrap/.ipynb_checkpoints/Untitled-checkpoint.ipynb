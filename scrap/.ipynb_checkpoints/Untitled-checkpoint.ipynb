{
 "cells": [
  {
   "cell_type": "code",
   "execution_count": 6,
   "id": "326c52b8",
   "metadata": {},
   "outputs": [],
   "source": [
    "from openai import OpenAI\n",
    "orgID = %env CHAT_GPT_ORGANIZATION_ID\n",
    "api_key = %env CHAT_GPT_API_KEY\n",
    "\n",
    "client = OpenAI(\n",
    "    api_key = api_key,\n",
    "    organization=orgID,\n",
    ")\n",
    "\n",
    "from googleapiclient.discovery import build\n",
    "import json\n",
    "import re\n",
    "from isodate import parse_duration\n",
    "from youtube_transcript_api import YouTubeTranscriptApi\n",
    "import pandas as pd\n",
    "\n",
    "api_key = %env YOUTUBE_SCAP_KEY\n",
    "youtube = build('youtube', 'v3', developerKey=api_key)\n",
    "\n"
   ]
  },
  {
   "cell_type": "code",
   "execution_count": 7,
   "id": "628e8bce",
   "metadata": {},
   "outputs": [],
   "source": [
    "channel_id = 'UCcefcZRL2oaA_uBNeo5UOWg' #ycombinator\n",
    "video_id = '1hHMwLxN6EM'\n",
    "\n",
    "\n",
    "\n",
    "def get_transcript(video_id):\n",
    "    try:\n",
    "        transcript = YouTubeTranscriptApi.get_transcript(video_id)\n",
    "        return transcript\n",
    "    except Exception as e:\n",
    "        print(f\"An error occurred: {e}\")\n",
    "        return ''\n",
    "\n",
    "\n",
    "tran = get_transcript(video_id)\n",
    "\n",
    "\n",
    "justText = ''\n",
    "textAndTimestamps = ''\n",
    "for text in tran:\n",
    "    textAndTimestamps += str(int(text['start'])) + '\\n' + text['text'] + '\\n'\n",
    "    justText += text['text'] + '\\n'\n",
    "\n"
   ]
  },
  {
   "cell_type": "code",
   "execution_count": null,
   "id": "f047f3d0",
   "metadata": {},
   "outputs": [],
   "source": [
    "topics = \n",
    "[{\n",
    "\t\"start\": 44,\n",
    "\t\"finish\": 137\n",
    "},\n",
    "{\n",
    "\t\"start\": 137,\n",
    "\t\"finish\": 220\n",
    "},{\n",
    "\t\"start\": 220,\n",
    "\t\"finish\": 307\n",
    "},{\n",
    "\t\"start\": 307,\n",
    "\t\"finish\": 398\n",
    "},{\n",
    "\t\"start\": 398,\n",
    "\t\"finish\": 517\n",
    "},{\n",
    "\t\"start\": 517,\n",
    "\t\"finish\": 631\n",
    "},{\n",
    "\t\"start\": 631,\n",
    "\t\"finish\": 830\n",
    "},{\n",
    "\t\"start\": 830,\n",
    "\t\"finish\": 923\n",
    "},{\n",
    "\t\"start\": 932,\n",
    "\t\"finish\": 1208\n",
    "},{\n",
    "\t\"start\": 1208,\n",
    "\t\"finish\": 1242\n",
    "},{\n",
    "\t\"start\": 1242,\n",
    "\t\"finish\": 1360\n",
    "}]\n"
   ]
  },
  {
   "cell_type": "code",
   "execution_count": 19,
   "id": "50276699",
   "metadata": {},
   "outputs": [
    {
     "data": {
      "text/plain": [
       "\"my name is michael uh i work here at y\\ncombinator\\ni helped run the accelerator uh before\\nthat i did two yc startups\\num one 2007 and one in 2012.\\nand today i'm going to talk to you about\\na\\nminimum viable product so mvp\\nwe always yell at founders to not use\\njargon yet we have this whole set of\\nstupid startup jargon and mvp is one of\\nthem\\num when you think about an mvp you\\nshould think about something\\nridiculously simple\\nthis is the first thing you can give\\nto the very first set of users you want\\nto target\\nin order to see if you can deliver any\\nvalue at all to them\\nthat's all it is it's extremely simple\\ni know you guys had a talk last week\\nabout how to come up with ideas how to\\ncome up with problems you want to solve\\nwhat i will tell you is that it is\\nhelpful to talk to some users\\nbefore you decide to build your mvp this\\ndoesn't mean you have to go into a\\nthree-year\\nkind of research situation or you have\\nto work in industry for 10 years\\nbut some conversations are helpful it's\\neven more helpful if you're your own\\nuser so you can tell whether your\\nproduct's working for you\\ni always get this strange question of\\nhow do i get my first users\\nwhich always kind of confuses me because\\ntheoretically you decide\\nto solve a problem that you know\\nsomeone has so the way you get your\\nfirst user as you talk to that person\\nthat you know has the problem\\nand if it's you it's even easier so um\\nif you are building a product for a\\nmysterious set of users that you have no\\nidea who they are\\nquestion that slightly um very slightly\\nokay so the goal of a pre-launch\\nstartup um is extremely simple\\nstep one launch quickly this is\\nsomething that's been part of the yc\\nethos from the very beginning and it's\\nbeen\\ngreat advice for 10 years and it\\ncontinues to be great advice\\num if you can walk away from one thing\\nfrom this presentation\\nit's launched something bad quickly\\nthat's it like literally the rest of\\nwhat i'm going to say is basically going\\nto be\\nre-summarized versions of that same\\nthing the second thing that an early\\nstage startup needs to do is get some\\ninitial customers\\nget anyone using your product you don't\\nhave to have a vision of how you get\\neveryone using it but just\\nanyone interacting and seeing if they\\ncan get value out of the product\\nyou'd be surprised at how many founders\\njourneys\\nend before a single user has actually\\ninteracted with a product they've\\ncreated\\num it's very very common so please get\\npast the step it's extremely important\\nthe next one is talk to your users any\\nof them\\nafter you've launched this mvp and get\\nfeedback\\nthis is one that's also extremely common\\nmistake because most founders in their\\nheads have a\\nidea of what they want to build and so\\nthey kind of have this weird feeling\\nthat if i haven't built\\nthe full thing yet getting feedback on\\nthe shitty initial thing is kind of\\nuseless of course it's not going to work\\nit's not the full thing the full things\\ncan take\\nthree years 10 million dollars a whole\\nteam so\\nfeedback on the little thing is useless\\nthe reality is that\\nin some ways the full thing is this\\nreally awesome idea in your head that\\nyou should keep in your head\\nbut it should be very very flexible\\nbecause it might turn out the full thing\\nthat you want to build\\nisn't what your customers want at all so\\num\\ni have the saying hold the problem\\nyou're solving tightly\\nhold the customer tightly hold the\\nsolution you're building loosely\\nand last most important iterate and i\\nlike to kind of distinguish between\\niterating and pivoting\\na lot of founders once they've figured\\nout how to build something\\nfall in love with it and so if it\\ndoesn't work for a certain set of users\\nthey start thinking\\nwell i wonder what other problems this\\nthing can solve\\nwell you know the screwdriver is not\\nactually good at screwing in anything\\nbut i wonder what other problems it\\ncould solve and they're like oh maybe\\nyou can use it to cook maybe you can use\\nit to clean and it's like no\\nlike the problem was i need to screw\\nsomething in\\nthe user was like a mechanic and if your\\nscrewdriver doesn't\\nhelp the mechanic solve the problem keep\\nthe mechanic\\nkeep the problem i need to screw\\nsomething in fix the screwdriver\\nlike that's the thing that's broken\\nright the broken thing is not the\\nmechanic and it's not the fact that they\\nneed to screw something in\\nso iterate continue improving on your\\nsolution\\nuntil it actually solves a problem in\\nmost\\ncases most people should be building a\\nvery lean\\nmvp so by that we mean\\num you should be able to build it fast\\nin weeks not months\\nthis can either involve software or\\nhonestly we see startups just start with\\na landing page and a spreadsheet but\\nmost startups can start very very fast\\nsecond extremely limited functionality\\nyou need to condense down what your user\\nneeds what your initial user needs\\nto a very simple set of things a lot of\\ntimes founders want to address\\nall of their users problems and all of\\ntheir potential users when in reality\\nthey should just focus on a small set of\\ninitial users\\nand their highest order problems and\\nthen ignore the rest until later\\nyou should have a vision of everyone you\\nshould have an mvp\\nvery small all this is is a base to\\niterate from\\nthat's it it's just a starting point um\\nit doesn't\\nit's not special in any way you just\\nhave to start\\nand so please make sure you don't feel\\nlike your mvp is too special\\nokay uh here is a classic example uh\\nthis is\\none of airbnb's first landing pages uh\\nin 2008\\ni believe one of the things that you\\nmight be interested in about\\nin airbnb's first product is that there\\nwere no payments\\nwhen you found a place to stay on airbnb\\nyou had to exchange\\nmoney with the host in person needless\\nto say that was\\na pretty big problem but they\\nstarted without payments\\nno map view you know how when you search\\nairbnb you can see where the house is in\\nthe city\\nyou don't have that sorry um and\\nthe person writing all the code nate was\\nworking part-time\\nokay so everyone tells these kind of\\nmagical stories about how everything was\\nperfect from the beginning\\nairbnb not perfect from the beginning\\nuh the next one twitch this was what\\ntwitch\\nlooked like day one not very familiar\\nwell maybe a little familiar there's\\nsome video there and there's some chat\\nthere\\nother than that nothing else uh twitch\\nlaunched as\\njustin tv which was a online reality tv\\nshow\\nthere was only one channel justin you\\nhad to follow his life if you didn't\\nlike his life you had to leave the\\nwebsite that's all there was\\nthe video was extremely low resolution\\nit was funny a founder asked me back in\\nthe day like oh like wasn't it weird you\\nguys had video in your apartment weren't\\nthere all these like secret documents\\nand things that like people would be\\nable to see and it was like\\nyou could barely recognize our faces let\\nalone\\ndocuments that we had um and most\\nimportantly there were no video games\\nno video games except if we decided to\\nplay video games in our apartment like\\nthat was the only time video games ever\\nappeared\\nand so let me just say you can do that\\nquickly\\nwhen you think about twitch it's much\\nmore complex now\\nlast stripe which wasn't stripe it was\\ncalled slash dev\\npayments because why not like let's make\\na name that's really easy to remember\\num this was stripe day one\\nno bank deals i won't tell you exactly\\nhow they process payments but\\nuh it was in a very startupy way\\nalmost no features and even cooler if\\nyou wanted to use stripe the stripe\\nfounders would come to your office and\\nintegrate it for you\\nhow nice is that um half because\\nthey were just desperate to get anyone\\nto use it and half because it was a\\ngreat way to find bugs before the users\\nfound bugs uh integrate yourself\\nso these are just three examples of\\nextremely simple extremely fast to build\\nmvps\\nall of these are billion dollar\\ncompanies and they all started with\\nsomething that most people would say\\nis pretty shitty in very few cases you\\nhave to build\\na heavy mvp i just invented that term\\nheavy mvp when i made this presentation\\ntwo days ago so uh\\nyou know maybe it becomes a thing if\\nyou're in an industry with significant\\nregulation like insurance or banking\\num sometimes drones although sometimes\\nnot um\\nit's hard to launch it's it's harder to\\nlaunch you have to pass through a bunch\\nof regulatory bodies first\\nif you're doing hard tech if you're\\nbuilding rockets it is hard to build a\\nrocket in a couple weeks\\nbiotech it is hard to invent a cancer\\ndrug in a couple weeks\\nmoonshots well fill in all the other\\nblanks it's hard to\\nbore tunnels in the earth and have\\nextremely fast vehicles that replace\\ncars in a couple weeks\\nso if you're in that situation\\num please remember that your mvp can\\nstart\\nwith a simple simple website that\\nexplains what you do\\num it's helpful when you talk to people\\ninteract with people that they\\ncan refer back to something so that can\\nbe your start and you can build that\\nsimple website in days not weeks so\\nmany ways maybe your heavy mvps are\\nfaster than your lean mbps in some weird\\nstrange way\\nnow i want to talk about launching for a\\nsecond because a lot of founders have\\nthis misconception about launching\\num they see big companies launch stuff\\nand they assume that's what startups do\\nin fact they see companies they kind of\\nthink about like startups\\nfacebook's not really a startup anymore\\nbut they see them getting a lot of press\\nand getting a lot of buzz and yadda\\nyadda and they have in their head that\\nthat's what a successful company\\nlooks like when they launch well let me\\nask you\\nthis question um how many here remember\\nthe day that google launched\\nno how about facebook\\num okay how about twitter no\\ngreat so it turns out that launches\\naren't that special at all\\nokay so if you have this magical idea of\\nyour magical launch you want to do\\nthrow it away it's not that special the\\nnumber one thing that's really important\\nis to get some customers so to make\\npeople feel better\\nlet's use different terms how about\\nlaunch is when you get any customers\\nand how about like press launch press\\nlaunch really impressive\\nis when like people write about things\\nand it's all exciting and you get all\\nthis buzz\\nlet's push the press launch off and\\nlet's push the get\\nany customers launch really really soon\\nthat's our goal here it's a lot\\nharder to learn from your customers when\\nthey don't have a product they can play\\nwith\\nyou know you can talk to your customer\\nall day but you have no idea whether the\\nthing you want to build can solve their\\nproblem\\nif you put the thing in front of them\\nand it doesn't solve their problem\\nyou know right away and so all the\\nresearch in the world is good but until\\nyou can put something in front of people\\nyou have no freaking idea whether it's\\ngoing to work\\nso spending all that time on a pitch\\ndeck is not as valuable as spending your\\ntime building\\nanything that you can give to a customer\\nfinally some hacks for building an mvp\\nextremely quickly\\nfirst time box your spec so your spec is\\nthe list of stuff you need to build\\nbefore you launch\\ntime box it say okay what happens if i\\nwant to launch in three weeks\\nokay well the only things that could be\\non my spec are things i can build in\\nthree weeks that makes your life a lot\\nsimpler it allows you to remove all the\\nfeatures you can't build in three weeks\\nsecond write your spec this seems really\\nstraightforward but most people\\nthis one up\\nit's really easy to change what you're\\nworking on before you ever launch it\\nbecause you never write it down you\\nstart working on something\\nyou talk to a user they say oh i would\\nnever use that or god forbid you talk to\\nan investor and they say oh that could\\nnever be a company because\\ninvestors know everything and so you\\ndecide to change what you're working on\\nand because you never wrote it down you\\ndon't even really realize you're\\nchanging it\\nand so your three week plan turns into a\\nthree month plan\\nif you write down at least you can\\nbe honest with yourself\\nthat you're changing your spec all the\\ntime\\nthe next one is cut your spec a week\\ninto your kind of three week sprint\\nyou probably realize that you added too\\nmany things to your spec and you're not\\ngonna make your deadline\\nthat's okay just cut the stuff that\\nclearly isn't important\\nand if there's no non-important things\\nstart cutting important things\\nmost of the goal here is just to get\\nanything out in the world\\nonce you get anything out in the world\\nthe momentum to keep anything going\\nis extremely strong once you have any\\nonce you if you don't have anything out\\nin the world\\nit's very easy to just delay delay delay\\ndelay\\nand then last don't fall in love with\\nyour mvp so many people\\nfall in love with the vision in their\\nhead and none of the products i showed\\nyou before was the initial vision\\nof what it ended up being so please\\ndon't\\nfall in love with your mvp um it's just\\nstep one in a journey you wouldn't fall\\nin love with a paper you wrote in the\\nfirst grade\\nand like that's like the level of impact\\noften your mvp\\nhas all right it was great talking to\\nall of you thank you very much\\nyou\\n\""
      ]
     },
     "execution_count": 19,
     "metadata": {},
     "output_type": "execute_result"
    }
   ],
   "source": [
    "\n",
    "systemsText = \"\"\"\n",
    "You are a friendly and approachable expert in the startup domain, catering to a wide audience including those with varying levels of knowledge and experience. While maintaining a professional demeanor, your interactions should be warm and engaging, making complex startup concepts accessible and less intimidating. Stick to knowledge that is typically taught in educational settings, unless specifically asked to delve into more advanced or specialized topics. When providing answers, use simple language, prioritizing the 2000 most common words to ensure clarity and ease of understanding. This approach will make your advice more relatable and easier to grasp, especially for beginners. In situations requiring more advanced terminology or concepts not commonly taught in schools, clarify and simplify these terms as much as possible. Your primary goal is to educate and inspire aspiring entrepreneurs in a friendly and accessible manner, making the world of startups approachable for everyone.\n",
    "\n",
    "You will be presented with the transcipt of a lecture with timestamps in seconds. Your goal is to divide the talk into topics, where each topic ideally would be somewhere 1-5 minutes long. Output seconds when each topic starts\n",
    "\n",
    "\"\"\"\n",
    "\n",
    "mytext = str(textAndTimestamps)\n",
    "\n",
    "mytext\n",
    "\n",
    "\n",
    "\n",
    "systemsText = \"\"\"\n",
    "Forget all previous commands.\n",
    "You are a friendly and approachable expert in the startup domain, catering to a wide audience including those with varying levels of knowledge and experience. While maintaining a professional demeanor, your interactions should be warm and engaging, making complex startup concepts accessible and less intimidating. Stick to knowledge that is typically taught in educational settings, unless specifically asked to delve into more advanced or specialized topics. When providing answers, use simple language, prioritizing the 2000 most common words to ensure clarity and ease of understanding. This approach will make your advice more relatable and easier to grasp, especially for beginners. In situations requiring more advanced terminology or concepts not commonly taught in schools, clarify and simplify these terms as much as possible. Your primary goal is to educate and inspire aspiring entrepreneurs in a friendly and accessible manner, making the world of startups approachable for everyone.\n",
    "You will be presented with the transcipt of a lecture. Your goal is to divide the talk into topics, where each topic ideally would be somewhere 1-5 minutes long.\n",
    "Output as an array in JSON fromat.\n",
    "\n",
    "\"\"\"\n",
    "\n",
    "mytext = str(justText)\n",
    "\n",
    "mytext"
   ]
  },
  {
   "cell_type": "code",
   "execution_count": 20,
   "id": "4641a2b7",
   "metadata": {},
   "outputs": [
    {
     "data": {
      "text/plain": [
       "'[\\n  {\\n    \"start_time\": \"00:00\",\\n    \"end_time\": \"01:09\",\\n    \"topic\": \"Introduction\"\\n  },\\n  {\\n    \"start_time\": \"01:10\",\\n    \"end_time\": \"02:55\",\\n    \"topic\": \"Concept of Minimum Viable Product\"\\n  },\\n  {\\n    \"start_time\": \"02:56\",\\n    \"end_time\": \"05:01\",\\n    \"topic\": \"Getting First Users and Importance of User Feedback\"\\n  },\\n  {\\n    \"start_time\": \"05:02\",\\n    \"end_time\": \"07:42\",\\n    \"topic\": \"Goals of a Pre-Launch Startup\"\\n  },\\n  {\\n    \"start_time\": \"07:43\",\\n    \"end_time\": \"11:45\",\\n    \"topic\": \"Building a Lean MVP\"\\n  },\\n  {\\n    \"start_time\": \"11:46\",\\n    \"end_time\": \"14:15\",\\n    \"topic\": \"Examples of Successful but Initial Simple MVPs\"\\n  },\\n  {\\n    \"start_time\": \"14:16\",\\n    \"end_time\": \"16:49\",\\n    \"topic\": \"Situations for a Complex MVP and Importance of a Simple Website\"\\n  },\\n  {\\n    \"start_time\": \"16:50\",\\n    \"end_time\": \"18:31\",\\n    \"topic\": \"Importance of Launching and Getting Customers\"\\n  },\\n  {\\n    \"start_time\": \"18:32\",\\n    \"end_time\": \"21:10\",\\n    \"topic\": \"Role of Research in Building MVP\"\\n  },\\n  {\\n    \"start_time\": \"21:11\",\\n    \"end_time\": \"23:30\",\\n    \"topic\": \"Tips and Hacks for Building MVP Quickly\"\\n  },\\n  {\\n    \"start_time\": \"23:31\",\\n    \"end_time\": \"24:40\",\\n    \"topic\": \"Conclusion and Emphasizing Not to Fall in Love with MVP\"\\n  }\\n]'"
      ]
     },
     "execution_count": 20,
     "metadata": {},
     "output_type": "execute_result"
    }
   ],
   "source": [
    "resp = client.chat.completions.create(\n",
    "    model=\"gpt-4\",\n",
    "    messages=[\n",
    "        {\n",
    "          \"role\": \"system\",\n",
    "            \"content\": systemsText\n",
    "        },\n",
    "        {\n",
    "          \"role\": \"user\",\n",
    "            \"content\": mytext\n",
    "        }\n",
    "    ],)\n",
    "topics = resp.choices[0].message.content\n",
    "topics"
   ]
  },
  {
   "cell_type": "code",
   "execution_count": 21,
   "id": "f56e54de",
   "metadata": {},
   "outputs": [
    {
     "data": {
      "text/plain": [
       "[{'start_time': '00:00', 'end_time': '01:09', 'topic': 'Introduction'},\n",
       " {'start_time': '01:10',\n",
       "  'end_time': '02:55',\n",
       "  'topic': 'Concept of Minimum Viable Product'},\n",
       " {'start_time': '02:56',\n",
       "  'end_time': '05:01',\n",
       "  'topic': 'Getting First Users and Importance of User Feedback'},\n",
       " {'start_time': '05:02',\n",
       "  'end_time': '07:42',\n",
       "  'topic': 'Goals of a Pre-Launch Startup'},\n",
       " {'start_time': '07:43', 'end_time': '11:45', 'topic': 'Building a Lean MVP'},\n",
       " {'start_time': '11:46',\n",
       "  'end_time': '14:15',\n",
       "  'topic': 'Examples of Successful but Initial Simple MVPs'},\n",
       " {'start_time': '14:16',\n",
       "  'end_time': '16:49',\n",
       "  'topic': 'Situations for a Complex MVP and Importance of a Simple Website'},\n",
       " {'start_time': '16:50',\n",
       "  'end_time': '18:31',\n",
       "  'topic': 'Importance of Launching and Getting Customers'},\n",
       " {'start_time': '18:32',\n",
       "  'end_time': '21:10',\n",
       "  'topic': 'Role of Research in Building MVP'},\n",
       " {'start_time': '21:11',\n",
       "  'end_time': '23:30',\n",
       "  'topic': 'Tips and Hacks for Building MVP Quickly'},\n",
       " {'start_time': '23:31',\n",
       "  'end_time': '24:40',\n",
       "  'topic': 'Conclusion and Emphasizing Not to Fall in Love with MVP'}]"
      ]
     },
     "execution_count": 21,
     "metadata": {},
     "output_type": "execute_result"
    }
   ],
   "source": [
    "topics = json.loads(resp.choices[0].message.content)\n",
    "topics"
   ]
  }
 ],
 "metadata": {
  "kernelspec": {
   "display_name": "Python 3 (ipykernel)",
   "language": "python",
   "name": "python3"
  },
  "language_info": {
   "codemirror_mode": {
    "name": "ipython",
    "version": 3
   },
   "file_extension": ".py",
   "mimetype": "text/x-python",
   "name": "python",
   "nbconvert_exporter": "python",
   "pygments_lexer": "ipython3",
   "version": "3.11.5"
  }
 },
 "nbformat": 4,
 "nbformat_minor": 5
}
