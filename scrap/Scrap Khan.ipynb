{
 "cells": [
  {
   "cell_type": "code",
   "execution_count": 7,
   "id": "1edbe2fd",
   "metadata": {},
   "outputs": [],
   "source": [
    "import subprocess\n",
    "def get_html_from_url(url):\n",
    "    cmds = [\"/Applications/Google\\ Chrome.app/Contents/MacOS/Google\\ Chrome\", \"--headless\", \"--dump-dom\"]\n",
    "    cmds = [\"/Applications/Google Chrome.app/Contents/MacOS/Google Chrome\", \"--headless\", \"--dump-dom\"]\n",
    "    cmds.append(url)\n",
    "    result = subprocess.run(cmds, stdout=subprocess.PIPE)\n",
    "    text = result.stdout.decode('utf-8')\n",
    "    return text\n",
    "    \n",
    "# t = get_html_from_url(\"https://www.khanacademy.org/math/algebra/x2f8bb11595b61c86:systems-of-equations/x2f8bb11595b61c86:introduction-to-systems-of-equations/v/trolls-tolls-and-systems-of-equation\")\n",
    "# t\n",
    "# # result = subprocess.run(['pwd'], stdout=subprocess.PIPE)\n",
    "# # text = result.stdout.decode('utf-8')\n",
    "# # text\n"
   ]
  },
  {
   "cell_type": "code",
   "execution_count": 24,
   "id": "8a3b9e66",
   "metadata": {},
   "outputs": [],
   "source": [
    "unit_url = \"https://www.khanacademy.org/math/algebra/x2f8bb11595b61c86:systems-of-equations/x2f8bb11595b61c86:introduction-to-systems-of-equations\"\n",
    "site = \"https://www.khanacademy.org\""
   ]
  },
  {
   "cell_type": "code",
   "execution_count": 33,
   "id": "2975a4d4",
   "metadata": {},
   "outputs": [
    {
     "name": "stderr",
     "output_type": "stream",
     "text": [
      "[0521/115624.477718:WARNING:runtime_features.cc(730)] AttributionReportingCrossAppWeb cannot be enabled in this configuration. Use --enable-features=ConversionMeasurement,AttributionReportingCrossAppWeb in addition.\n",
      "[0521/115624.512299:WARNING:runtime_features.cc(730)] AttributionReportingCrossAppWeb cannot be enabled in this configuration. Use --enable-features=ConversionMeasurement,AttributionReportingCrossAppWeb in addition.\n"
     ]
    }
   ],
   "source": [
    "from xml.dom.minidom import parseString\n",
    "\n",
    "html = get_html_from_url(unit_url)\n",
    "\n"
   ]
  },
  {
   "cell_type": "code",
   "execution_count": 73,
   "id": "7c3a7b3f",
   "metadata": {},
   "outputs": [
    {
     "data": {
      "text/plain": [
       "['/math/algebra/x2f8bb11595b61c86:systems-of-equations/x2f8bb11595b61c86:introduction-to-systems-of-equations/v/trolls-tolls-and-systems-of-equations',\n",
       " '/math/algebra/x2f8bb11595b61c86:systems-of-equations/x2f8bb11595b61c86:introduction-to-systems-of-equations/v/solving-the-troll-riddle-visually',\n",
       " '/math/algebra/x2f8bb11595b61c86:systems-of-equations/x2f8bb11595b61c86:introduction-to-systems-of-equations/v/testing-a-solution-for-a-system-of-equations',\n",
       " '/math/algebra/x2f8bb11595b61c86:systems-of-equations/x2f8bb11595b61c86:introduction-to-systems-of-equations/v/solving-systems-graphically',\n",
       " '/math/algebra/x2f8bb11595b61c86:systems-of-equations/x2f8bb11595b61c86:introduction-to-systems-of-equations/v/solving-systems-graphically-examples',\n",
       " '/math/algebra/x2f8bb11595b61c86:systems-of-equations/x2f8bb11595b61c86:introduction-to-systems-of-equations/v/setting-up-system',\n",
       " '/math/algebra/x2f8bb11595b61c86:systems-of-equations/x2f8bb11595b61c86:introduction-to-systems-of-equations/v/setting-up-systems-weight-price',\n",
       " '/math/algebra/x2f8bb11595b61c86:systems-of-equations/x2f8bb11595b61c86:introduction-to-systems-of-equations/v/interpret-points-systems',\n",
       " '/math/algebra/x2f8bb11595b61c86:systems-of-equations/x2f8bb11595b61c86:solving-systems-of-equations-with-substitution/v/solving-systems-with-substitution',\n",
       " '/math/algebra/x2f8bb11595b61c86:systems-of-equations/x2f8bb11595b61c86:solving-systems-of-equations-with-substitution/v/practice-using-substitution-for-systems',\n",
       " '/math/algebra/x2f8bb11595b61c86:systems-of-equations/x2f8bb11595b61c86:solving-systems-elimination/v/king-s-cupcakes-solving-systems-by-elimination',\n",
       " '/math/algebra/x2f8bb11595b61c86:systems-of-equations/x2f8bb11595b61c86:solving-systems-elimination/v/elimination-strategies',\n",
       " '/math/algebra/x2f8bb11595b61c86:systems-of-equations/x2f8bb11595b61c86:solving-systems-elimination/v/simple-elimination-practice',\n",
       " '/math/algebra/x2f8bb11595b61c86:systems-of-equations/x2f8bb11595b61c86:solving-systems-elimination/v/how-many-bags-of-potato-chips-do-people-eat',\n",
       " '/math/algebra/x2f8bb11595b61c86:systems-of-equations/x2f8bb11595b61c86:solving-systems-elimination/v/solving-systems-of-equations-by-multiplication',\n",
       " '/math/algebra/x2f8bb11595b61c86:systems-of-equations/x2f8bb11595b61c86:equivalent-systems-equations/v/why-we-do-the-same-thing-to-both-sides-basic-systems',\n",
       " '/math/algebra/x2f8bb11595b61c86:systems-of-equations/x2f8bb11595b61c86:equivalent-systems-equations/v/identifying-equivalent-systems-of-equations',\n",
       " '/math/algebra/x2f8bb11595b61c86:systems-of-equations/x2f8bb11595b61c86:equivalent-systems-equations/v/identifying-non-equivalent-systems-of-equations',\n",
       " '/math/algebra/x2f8bb11595b61c86:systems-of-equations/x2f8bb11595b61c86:equivalent-systems-equations/v/reasoning-system-equations',\n",
       " '/math/algebra/x2f8bb11595b61c86:systems-of-equations/x2f8bb11595b61c86:number-of-solutions-to-systems-of-equations/v/inconsistent-systems-of-equations',\n",
       " '/math/algebra/x2f8bb11595b61c86:systems-of-equations/x2f8bb11595b61c86:number-of-solutions-to-systems-of-equations/v/infinite-solutions-to-systems',\n",
       " '/math/algebra/x2f8bb11595b61c86:systems-of-equations/x2f8bb11595b61c86:number-of-solutions-to-systems-of-equations/v/consistent-and-inconsistent-systems',\n",
       " '/math/algebra/x2f8bb11595b61c86:systems-of-equations/x2f8bb11595b61c86:number-of-solutions-to-systems-of-equations/v/independent-and-dependent-systems',\n",
       " '/math/algebra/x2f8bb11595b61c86:systems-of-equations/x2f8bb11595b61c86:number-of-solutions-to-systems-of-equations/v/solving-systems-by-graphing-2',\n",
       " '/math/algebra/x2f8bb11595b61c86:systems-of-equations/x2f8bb11595b61c86:number-of-solutions-to-systems-of-equations/v/practice-thinking-about-number-of-solutions-to-systems',\n",
       " '/math/algebra/x2f8bb11595b61c86:systems-of-equations/x2f8bb11595b61c86:number-of-solutions-to-systems-of-equations/v/examples-algebraically-analyzing-solutions-to-systems',\n",
       " '/math/algebra/x2f8bb11595b61c86:systems-of-equations/x2f8bb11595b61c86:number-of-solutions-to-systems-of-equations/v/understanding-systems-of-equations-example-2',\n",
       " '/math/algebra/x2f8bb11595b61c86:systems-of-equations/x2f8bb11595b61c86:systems-of-equations-word-problems/v/ex-2-age-word-problem',\n",
       " '/math/algebra/x2f8bb11595b61c86:systems-of-equations/x2f8bb11595b61c86:systems-of-equations-word-problems/v/ex-3-age-word-problem',\n",
       " '/math/algebra/x2f8bb11595b61c86:systems-of-equations/x2f8bb11595b61c86:systems-of-equations-word-problems/v/ex-1-age-word-problem',\n",
       " '/math/algebra/x2f8bb11595b61c86:systems-of-equations/x2f8bb11595b61c86:systems-of-equations-word-problems/v/system-of-equations-distances-word-problem',\n",
       " '/math/algebra/x2f8bb11595b61c86:systems-of-equations/x2f8bb11595b61c86:systems-of-equations-word-problems/v/systems-word-problem-with-no-solution',\n",
       " '/math/algebra/x2f8bb11595b61c86:systems-of-equations/x2f8bb11595b61c86:systems-of-equations-word-problems/v/system-with-not-enough-information',\n",
       " '/math/algebra/x2f8bb11595b61c86:systems-of-equations/x2f8bb11595b61c86:systems-of-equations-word-problems/v/solving-systems-by-elimination',\n",
       " '/math/algebra/x2f8bb11595b61c86:systems-of-equations/x2f8bb11595b61c86:systems-of-equations-word-problems/v/using-a-system-of-equations-to-find-the-price-of-apples-and-oranges',\n",
       " '/math/algebra/x2f8bb11595b61c86:systems-of-equations/x2f8bb11595b61c86:systems-of-equations-word-problems/v/substitution-method-3',\n",
       " '/math/algebra/x2f8bb11595b61c86:systems-of-equations/x2f8bb11595b61c86:systems-of-equations-word-problems/v/understanding-systems-of-equations-example']"
      ]
     },
     "execution_count": 73,
     "metadata": {},
     "output_type": "execute_result"
    }
   ],
   "source": [
    "from html.parser import HTMLParser\n",
    "class Parser(HTMLParser):\n",
    "    def __init__(self):\n",
    "        HTMLParser.__init__(self)\n",
    "        self.href = ''\n",
    "        self.urls = []\n",
    "\n",
    "    def handle_starttag(self, tag, attrs):\n",
    "        if (tag == 'a'):\n",
    "            for (k,v) in attrs:\n",
    "                if (k == 'href'):\n",
    "                    self.href = v\n",
    "        elif (tag == 'span'):\n",
    "            for (k,v) in attrs:\n",
    "                if (k == 'aria-label' and v == 'Video'):\n",
    "                    self.urls.append(self.href)            \n",
    "\n",
    "\n",
    "\n",
    "parser = Parser()\n",
    "parser.feed(html)\n",
    "parser.urls\n"
   ]
  },
  {
   "cell_type": "code",
   "execution_count": 32,
   "id": "e16fdc38",
   "metadata": {},
   "outputs": [
    {
     "name": "stderr",
     "output_type": "stream",
     "text": [
      "[0521/115618.386214:WARNING:runtime_features.cc(730)] AttributionReportingCrossAppWeb cannot be enabled in this configuration. Use --enable-features=ConversionMeasurement,AttributionReportingCrossAppWeb in addition.\n",
      "[0521/115618.527860:WARNING:runtime_features.cc(730)] AttributionReportingCrossAppWeb cannot be enabled in this configuration. Use --enable-features=ConversionMeasurement,AttributionReportingCrossAppWeb in addition.\n"
     ]
    }
   ],
   "source": [
    "video_url = site + parser.urls[0]\n",
    "video_html = get_html_from_url(video_url)\n",
    "\n",
    "\n"
   ]
  },
  {
   "cell_type": "code",
   "execution_count": 49,
   "id": "0db09fd8",
   "metadata": {},
   "outputs": [
    {
     "name": "stdout",
     "output_type": "stream",
     "text": [
      "[('src', 'https://www.googletagmanager.com/ns.html?id=GTM-WSX5PBP'), ('height', '0'), ('width', '0'), ('style', 'display:none;visibility:hidden')]\n",
      "Systems Of Equations: Trolls, Tolls (1 Of 2) A troll forces us to use algebra to figure out the make-up of his currency. We end up setting up a system of equations. Created by Sal Khan.\n"
     ]
    }
   ],
   "source": [
    "class VideoParser(HTMLParser):\n",
    "    def __init__(self):\n",
    "        HTMLParser.__init__(self)\n",
    "        self.start_h1 = False\n",
    "        self.start_div = False\n",
    "        self.start_iframe = False\n",
    "        \n",
    "        self.name = ''\n",
    "        self.desc = ''\n",
    "\n",
    "    def handle_starttag(self, tag, attrs):\n",
    "        if (tag == 'h1'):\n",
    "            self.start_h1 = True       \n",
    "        elif (tag == 'div'):\n",
    "            for (k,v) in attrs:\n",
    "                if (k == 'id' and v == 'ka-videoPageTabs-tabbedpanel-content'):\n",
    "                    self.start_div = True\n",
    "        elif (tag == 'iframe'):\n",
    "            print(attrs)\n",
    "            for (k,v) in attrs:\n",
    "                if(k == 'data-youtubeid'):\n",
    "                    print(v)\n",
    "\n",
    "    def handle_endtag(self, tag):\n",
    "        if (tag == 'h1'):\n",
    "            self.start_h1 = False\n",
    "        elif (tag == 'div'):\n",
    "            self.start_div = False\n",
    "            \n",
    "    def handle_data(self, data):\n",
    "        if self.start_h1:\n",
    "            self.name = data.title()\n",
    "        if self.start_div:\n",
    "            self.desc += data\n",
    "\n",
    "parser = VideoParser()\n",
    "parser.feed(video_html)\n",
    "print(parser.name, parser.desc)\n",
    "\n",
    "\n"
   ]
  },
  {
   "cell_type": "code",
   "execution_count": 78,
   "id": "5d29e21a",
   "metadata": {},
   "outputs": [],
   "source": [
    "def get_searched_value(video_html, searchStr):\n",
    "    x = video_html.find(searchStr)\n",
    "    start = video_html.find('\"', x+len(searchStr))\n",
    "    end = video_html.find('\"', start+1)\n",
    "    return video_html[start+1:end]\n",
    "\n",
    "\n",
    "def get_topic(video_html):\n",
    "    desc =  get_searched_value(video_html, '\"translatedDescription\":')\n",
    "    name = get_searched_value(video_html, '\"translatedTitle\":').title()\n",
    "    videoID = get_searched_value(video_html, '\"translatedYoutubeId\":')\n",
    "    return {\n",
    "        \"name\": name,\n",
    "        \"description\": desc,\n",
    "        \"texts\": [\"text1.md\"],\n",
    "        \"video_parts\": [{\n",
    "            \"id\": videoID\n",
    "        }],\n",
    "        \"node_type\": \"lecture\",\n",
    "        \"parent_id\": \"khan-algebra-1\",\n",
    "        \"thumbnail\": \"\"\n",
    "    }"
   ]
  },
  {
   "cell_type": "code",
   "execution_count": null,
   "id": "d9dcec57",
   "metadata": {},
   "outputs": [
    {
     "name": "stderr",
     "output_type": "stream",
     "text": [
      "[0521/132611.558759:WARNING:runtime_features.cc(730)] AttributionReportingCrossAppWeb cannot be enabled in this configuration. Use --enable-features=ConversionMeasurement,AttributionReportingCrossAppWeb in addition.\n",
      "[0521/132611.696182:WARNING:runtime_features.cc(730)] AttributionReportingCrossAppWeb cannot be enabled in this configuration. Use --enable-features=ConversionMeasurement,AttributionReportingCrossAppWeb in addition.\n"
     ]
    },
    {
     "name": "stdout",
     "output_type": "stream",
     "text": [
      "{\n",
      "    \"name\": \"Systems Of Equations: Trolls, Tolls (1 Of 2)\",\n",
      "    \"description\": \"A troll forces us to use algebra to figure out the make-up of his currency. We end up setting up a system of equations.\",\n",
      "    \"texts\": [\n",
      "        \"text1.md\"\n",
      "    ],\n",
      "    \"video_parts\": [\n",
      "        {\n",
      "            \"id\": \"OcNt-36QKu8\"\n",
      "        }\n",
      "    ],\n",
      "    \"node_type\": \"lecture\",\n",
      "    \"parent_id\": \"khan-algebra-1\",\n",
      "    \"thumbnail\": \"\"\n",
      "}\n"
     ]
    },
    {
     "name": "stderr",
     "output_type": "stream",
     "text": [
      "[0521/132618.659188:WARNING:runtime_features.cc(730)] AttributionReportingCrossAppWeb cannot be enabled in this configuration. Use --enable-features=ConversionMeasurement,AttributionReportingCrossAppWeb in addition.\n",
      "[0521/132618.695625:WARNING:runtime_features.cc(730)] AttributionReportingCrossAppWeb cannot be enabled in this configuration. Use --enable-features=ConversionMeasurement,AttributionReportingCrossAppWeb in addition.\n"
     ]
    },
    {
     "name": "stdout",
     "output_type": "stream",
     "text": [
      "{\n",
      "    \"name\": \"Systems Of Equations: Trolls, Tolls (2 Of 2)\",\n",
      "    \"description\": \"Solving the system of equations visually. Now we can save the prince/princess.\",\n",
      "    \"texts\": [\n",
      "        \"text1.md\"\n",
      "    ],\n",
      "    \"video_parts\": [\n",
      "        {\n",
      "            \"id\": \"H-HfmyUzPw8\"\n",
      "        }\n",
      "    ],\n",
      "    \"node_type\": \"lecture\",\n",
      "    \"parent_id\": \"khan-algebra-1\",\n",
      "    \"thumbnail\": \"\"\n",
      "}\n"
     ]
    },
    {
     "name": "stderr",
     "output_type": "stream",
     "text": [
      "[0521/132625.745264:WARNING:runtime_features.cc(730)] AttributionReportingCrossAppWeb cannot be enabled in this configuration. Use --enable-features=ConversionMeasurement,AttributionReportingCrossAppWeb in addition.\n",
      "[0521/132625.780496:WARNING:runtime_features.cc(730)] AttributionReportingCrossAppWeb cannot be enabled in this configuration. Use --enable-features=ConversionMeasurement,AttributionReportingCrossAppWeb in addition.\n"
     ]
    },
    {
     "name": "stdout",
     "output_type": "stream",
     "text": [
      "{\n",
      "    \"name\": \"Testing A Solution To A System Of Equations\",\n",
      "    \"description\": \"Sal checks whether (-1,7) is a solution of the system: x+2y=13 and 3x-y=-11.\",\n",
      "    \"texts\": [\n",
      "        \"text1.md\"\n",
      "    ],\n",
      "    \"video_parts\": [\n",
      "        {\n",
      "            \"id\": \"SkMNREAMNvc\"\n",
      "        }\n",
      "    ],\n",
      "    \"node_type\": \"lecture\",\n",
      "    \"parent_id\": \"khan-algebra-1\",\n",
      "    \"thumbnail\": \"\"\n",
      "}\n"
     ]
    },
    {
     "name": "stderr",
     "output_type": "stream",
     "text": [
      "[0521/132632.851882:WARNING:runtime_features.cc(730)] AttributionReportingCrossAppWeb cannot be enabled in this configuration. Use --enable-features=ConversionMeasurement,AttributionReportingCrossAppWeb in addition.\n",
      "[0521/132632.887730:WARNING:runtime_features.cc(730)] AttributionReportingCrossAppWeb cannot be enabled in this configuration. Use --enable-features=ConversionMeasurement,AttributionReportingCrossAppWeb in addition.\n"
     ]
    },
    {
     "name": "stdout",
     "output_type": "stream",
     "text": [
      "{\n",
      "    \"name\": \"Systems Of Equations With Graphing: Y=7/5X-5 & Y=3/5X-1\",\n",
      "    \"description\": \"Sal graphs the following system of equations and solves it by looking for the intersection point: y=7/5x-5 and y=3/5x-1.\",\n",
      "    \"texts\": [\n",
      "        \"text1.md\"\n",
      "    ],\n",
      "    \"video_parts\": [\n",
      "        {\n",
      "            \"id\": \"VhH2nEDCd68\"\n",
      "        }\n",
      "    ],\n",
      "    \"node_type\": \"lecture\",\n",
      "    \"parent_id\": \"khan-algebra-1\",\n",
      "    \"thumbnail\": \"\"\n",
      "}\n"
     ]
    },
    {
     "name": "stderr",
     "output_type": "stream",
     "text": [
      "[0521/132639.989362:WARNING:runtime_features.cc(730)] AttributionReportingCrossAppWeb cannot be enabled in this configuration. Use --enable-features=ConversionMeasurement,AttributionReportingCrossAppWeb in addition.\n",
      "[0521/132640.024626:WARNING:runtime_features.cc(730)] AttributionReportingCrossAppWeb cannot be enabled in this configuration. Use --enable-features=ConversionMeasurement,AttributionReportingCrossAppWeb in addition.\n"
     ]
    },
    {
     "name": "stdout",
     "output_type": "stream",
     "text": [
      "{\n",
      "    \"name\": \"Systems Of Equations With Graphing: Exact & Approximate Solutions\",\n",
      "    \"description\": \"Sal solves a system of two linear equations in standard form, and then approximates the solution of a system whose solution isn't clearly visible.\",\n",
      "    \"texts\": [\n",
      "        \"text1.md\"\n",
      "    ],\n",
      "    \"video_parts\": [\n",
      "        {\n",
      "            \"id\": \"o4pbAQgJYjI\"\n",
      "        }\n",
      "    ],\n",
      "    \"node_type\": \"lecture\",\n",
      "    \"parent_id\": \"khan-algebra-1\",\n",
      "    \"thumbnail\": \"\"\n",
      "}\n"
     ]
    },
    {
     "name": "stderr",
     "output_type": "stream",
     "text": [
      "[0521/132653.119122:WARNING:runtime_features.cc(730)] AttributionReportingCrossAppWeb cannot be enabled in this configuration. Use --enable-features=ConversionMeasurement,AttributionReportingCrossAppWeb in addition.\n",
      "[0521/132653.154460:WARNING:runtime_features.cc(730)] AttributionReportingCrossAppWeb cannot be enabled in this configuration. Use --enable-features=ConversionMeasurement,AttributionReportingCrossAppWeb in addition.\n"
     ]
    },
    {
     "name": "stdout",
     "output_type": "stream",
     "text": [
      "{\n",
      "    \"name\": \"Setting Up A System Of Equations From Context Example (Pet Weights)\",\n",
      "    \"description\": \"Practice writing a system of linear equations that fits the constraints in a word problem.\",\n",
      "    \"texts\": [\n",
      "        \"text1.md\"\n",
      "    ],\n",
      "    \"video_parts\": [\n",
      "        {\n",
      "            \"id\": \"HftghcUXaEg\"\n",
      "        }\n",
      "    ],\n",
      "    \"node_type\": \"lecture\",\n",
      "    \"parent_id\": \"khan-algebra-1\",\n",
      "    \"thumbnail\": \"\"\n",
      "}\n"
     ]
    },
    {
     "name": "stderr",
     "output_type": "stream",
     "text": [
      "[0521/132706.602352:WARNING:runtime_features.cc(730)] AttributionReportingCrossAppWeb cannot be enabled in this configuration. Use --enable-features=ConversionMeasurement,AttributionReportingCrossAppWeb in addition.\n",
      "[0521/132706.637837:WARNING:runtime_features.cc(730)] AttributionReportingCrossAppWeb cannot be enabled in this configuration. Use --enable-features=ConversionMeasurement,AttributionReportingCrossAppWeb in addition.\n"
     ]
    },
    {
     "name": "stdout",
     "output_type": "stream",
     "text": [
      "{\n",
      "    \"name\": \"Setting Up A System Of Linear Equations Example (Weight And Price)\",\n",
      "    \"description\": \"Practice writing a system of linear equations that fits the constraints in a word problem.\",\n",
      "    \"texts\": [\n",
      "        \"text1.md\"\n",
      "    ],\n",
      "    \"video_parts\": [\n",
      "        {\n",
      "            \"id\": \"pL4PXSXH-R8\"\n",
      "        }\n",
      "    ],\n",
      "    \"node_type\": \"lecture\",\n",
      "    \"parent_id\": \"khan-algebra-1\",\n",
      "    \"thumbnail\": \"\"\n",
      "}\n"
     ]
    },
    {
     "name": "stderr",
     "output_type": "stream",
     "text": [
      "[0521/132722.277942:WARNING:runtime_features.cc(730)] AttributionReportingCrossAppWeb cannot be enabled in this configuration. Use --enable-features=ConversionMeasurement,AttributionReportingCrossAppWeb in addition.\n",
      "[0521/132722.312787:WARNING:runtime_features.cc(730)] AttributionReportingCrossAppWeb cannot be enabled in this configuration. Use --enable-features=ConversionMeasurement,AttributionReportingCrossAppWeb in addition.\n"
     ]
    },
    {
     "name": "stdout",
     "output_type": "stream",
     "text": [
      "{\n",
      "    \"name\": \"Interpreting Points In Context Of Graphs Of Systems\",\n",
      "    \"description\": \"Given a graph of a system of equations and a context, practice interpreting what various points represent in that system.\",\n",
      "    \"texts\": [\n",
      "        \"text1.md\"\n",
      "    ],\n",
      "    \"video_parts\": [\n",
      "        {\n",
      "            \"id\": \"_hW1OzRlx50\"\n",
      "        }\n",
      "    ],\n",
      "    \"node_type\": \"lecture\",\n",
      "    \"parent_id\": \"khan-algebra-1\",\n",
      "    \"thumbnail\": \"\"\n",
      "}\n"
     ]
    },
    {
     "name": "stderr",
     "output_type": "stream",
     "text": [
      "[0521/132806.704285:WARNING:runtime_features.cc(730)] AttributionReportingCrossAppWeb cannot be enabled in this configuration. Use --enable-features=ConversionMeasurement,AttributionReportingCrossAppWeb in addition.\n",
      "[0521/132806.739886:WARNING:runtime_features.cc(730)] AttributionReportingCrossAppWeb cannot be enabled in this configuration. Use --enable-features=ConversionMeasurement,AttributionReportingCrossAppWeb in addition.\n"
     ]
    },
    {
     "name": "stdout",
     "output_type": "stream",
     "text": [
      "{\n",
      "    \"name\": \"Systems Of Equations With Substitution: Potato Chips\",\n",
      "    \"description\": \"To solve a system of equations using substitution...\\\\n1. Isolate one of the variables in one of the equations, e.g. rewrite 2x+y=3 as y=3-2x.\\\\n2. You can now express the isolated variable using the other one. *Substitute* that expression into the second equation, e.g. rewrite x+2y=5 as x+2(3-2x)=5.\\\\n3. Now you have an equation with one variable! Solve it, and use what you got to find the other variable.\\\\n\",\n",
      "    \"texts\": [\n",
      "        \"text1.md\"\n",
      "    ],\n",
      "    \"video_parts\": [\n",
      "        {\n",
      "            \"id\": \"2EwPpga_XPw\"\n",
      "        }\n",
      "    ],\n",
      "    \"node_type\": \"lecture\",\n",
      "    \"parent_id\": \"khan-algebra-1\",\n",
      "    \"thumbnail\": \"\"\n",
      "}\n"
     ]
    },
    {
     "name": "stderr",
     "output_type": "stream",
     "text": [
      "[0521/132819.610949:WARNING:runtime_features.cc(730)] AttributionReportingCrossAppWeb cannot be enabled in this configuration. Use --enable-features=ConversionMeasurement,AttributionReportingCrossAppWeb in addition.\n",
      "[0521/132819.645886:WARNING:runtime_features.cc(730)] AttributionReportingCrossAppWeb cannot be enabled in this configuration. Use --enable-features=ConversionMeasurement,AttributionReportingCrossAppWeb in addition.\n",
      "[0521/132834.332639:ERROR:ssl_client_socket_impl.cc(879)] handshake failed; returned -1, SSL error code 1, net_error -331\n",
      "[0521/132834.333382:ERROR:ssl_client_socket_impl.cc(879)] handshake failed; returned -1, SSL error code 1, net_error -331\n",
      "[0521/132834.333570:ERROR:ssl_client_socket_impl.cc(879)] handshake failed; returned -1, SSL error code 1, net_error -331\n",
      "[0521/132834.333608:ERROR:ssl_client_socket_impl.cc(879)] handshake failed; returned -1, SSL error code 1, net_error -331\n",
      "[0521/132834.334596:ERROR:ssl_client_socket_impl.cc(879)] handshake failed; returned -1, SSL error code 1, net_error -331\n",
      "[0521/132834.335140:ERROR:ssl_client_socket_impl.cc(879)] handshake failed; returned -1, SSL error code 1, net_error -331\n",
      "\n",
      "<--- Last few GCs --->\n",
      "\n",
      "[52930:0x12c00e70000]    61247 ms: Mark-Compact (reduce) 2266.6 (2420.0) -> 2266.6 (2420.3) MB, pooled: 0 MB, 1134.08 / 0.00 ms  (average mu = 0.673, current mu = 0.205) CppHeap allocation failure; GC in old space requested\n",
      "[52930:0x12c00e70000]    62296 ms: Mark-Compact (reduce) 2266.6 (2420.3) -> 2266.6 (2420.3) MB, pooled: 0 MB, 863.58 / 0.00 ms  (average mu = 0.575, current mu = 0.177) CppHeap allocation failure; GC in old space requested\n",
      "\n",
      "\n",
      "<--- JS stacktrace --->\n",
      "\n",
      "[0521/132936.451826:ERROR:v8_initializer.cc(812)] V8 process OOM (Oilpan: Normal allocation.).\n",
      "[0521/132936.737002:ERROR:directory_reader_posix.cc(43)] opendir /var/folders/dp/2s1n3kmn7fs0w5c117blvjn00000gn/T/Crashpad/attachments/f31c3758-e8c8-4f46-8357-b6863d0fe9aa: No such file or directory (2)\n",
      "[0521/132936.783181:WARNING:crash_report_exception_handler.cc(235)] UniversalExceptionRaise: (os/kern) failure (5)\n"
     ]
    }
   ],
   "source": [
    "\n",
    "topics = []\n",
    "for url in parser.urls:\n",
    "    video_url = site + url\n",
    "    video_html = get_html_from_url(video_url)\n",
    "    topic = get_topic(video_html)\n",
    "    print(json.dumps(topic, indent=4))\n",
    "    topics.append(topic)\n",
    "    \n",
    "\n",
    "topics\n",
    "    \n",
    "    \n",
    "    \n",
    "    "
   ]
  }
 ],
 "metadata": {
  "kernelspec": {
   "display_name": "Python 3 (ipykernel)",
   "language": "python",
   "name": "python3"
  },
  "language_info": {
   "codemirror_mode": {
    "name": "ipython",
    "version": 3
   },
   "file_extension": ".py",
   "mimetype": "text/x-python",
   "name": "python",
   "nbconvert_exporter": "python",
   "pygments_lexer": "ipython3",
   "version": "3.11.5"
  }
 },
 "nbformat": 4,
 "nbformat_minor": 5
}
