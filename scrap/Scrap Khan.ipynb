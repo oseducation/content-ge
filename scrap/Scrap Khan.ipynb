{
 "cells": [
  {
   "cell_type": "code",
   "execution_count": 92,
   "id": "1edbe2fd",
   "metadata": {},
   "outputs": [],
   "source": [
    "import subprocess\n",
    "def get_html_from_url(url):\n",
    "    cmds = [\"/Applications/Google Chrome.app/Contents/MacOS/Google Chrome\", \"--headless\", \"--dump-dom\", \"--enable-features=ConversionMeasurement,AttributionReportingCrossAppWeb\"]\n",
    "    cmds.append(url)\n",
    "    result = subprocess.run(cmds, stdout=subprocess.PIPE)\n",
    "    text = result.stdout.decode('utf-8')\n",
    "    return text\n",
    "    \n",
    "# t = get_html_from_url(\"https://www.khanacademy.org/math/algebra/x2f8bb11595b61c86:systems-of-equations/x2f8bb11595b61c86:introduction-to-systems-of-equations/v/trolls-tolls-and-systems-of-equation\")\n",
    "# t\n",
    "# # result = subprocess.run(['pwd'], stdout=subprocess.PIPE)\n",
    "# # text = result.stdout.decode('utf-8')\n",
    "# # text\n"
   ]
  },
  {
   "cell_type": "code",
   "execution_count": 96,
   "id": "6f248e91",
   "metadata": {},
   "outputs": [],
   "source": [
    "# unit_url = \"https://www.khanacademy.org/math/algebra/x2f8bb11595b61c86:systems-of-equations/x2f8bb11595b61c86:introduction-to-systems-of-equations\"\n",
    "unit_url = \"https://www.khanacademy.org/math/algebra/x2f8bb11595b61c86:sequences\"\n",
    "site = \"https://www.khanacademy.org\""
   ]
  },
  {
   "cell_type": "code",
   "execution_count": 97,
   "id": "ba89bd08",
   "metadata": {},
   "outputs": [],
   "source": [
    "from xml.dom.minidom import parseString\n",
    "\n",
    "html = get_html_from_url(unit_url)\n",
    "\n"
   ]
  },
  {
   "cell_type": "code",
   "execution_count": 98,
   "id": "2fb5bd1d",
   "metadata": {},
   "outputs": [
    {
     "data": {
      "text/plain": [
       "['/math/algebra/x2f8bb11595b61c86:sequences/x2f8bb11595b61c86:introduction-to-arithmetic-sequences/v/explicit-and-recursive-definitions-of-sequences',\n",
       " '/math/algebra/x2f8bb11595b61c86:sequences/x2f8bb11595b61c86:introduction-to-arithmetic-sequences/v/arithmetic-sequences',\n",
       " '/math/algebra/x2f8bb11595b61c86:sequences/x2f8bb11595b61c86:introduction-to-arithmetic-sequences/v/extending-arithmetic-sequences',\n",
       " '/math/algebra/x2f8bb11595b61c86:sequences/x2f8bb11595b61c86:introduction-to-arithmetic-sequences/v/using-arithmetic-sequences-formulas',\n",
       " '/math/algebra/x2f8bb11595b61c86:sequences/x2f8bb11595b61c86:introduction-to-arithmetic-sequences/v/using-recursive-formula-for-arithmetic-sequence',\n",
       " '/math/algebra/x2f8bb11595b61c86:sequences/x2f8bb11595b61c86:constructing-arithmetic-sequences/v/recursive-formula-for-arithmetic-sequence',\n",
       " '/math/algebra/x2f8bb11595b61c86:sequences/x2f8bb11595b61c86:constructing-arithmetic-sequences/v/explicit-formulas-for-arithmetic-sequences',\n",
       " '/math/algebra/x2f8bb11595b61c86:sequences/x2f8bb11595b61c86:constructing-arithmetic-sequences/v/finding-the-100th-term-in-a-sequence',\n",
       " '/math/algebra/x2f8bb11595b61c86:sequences/x2f8bb11595b61c86:constructing-arithmetic-sequences/v/recursive-formulas-for-arithmetic-sequences',\n",
       " '/math/algebra/x2f8bb11595b61c86:sequences/x2f8bb11595b61c86:introduction-to-geometric-sequences/v/geometric-sequences-introduction',\n",
       " '/math/algebra/x2f8bb11595b61c86:sequences/x2f8bb11595b61c86:introduction-to-geometric-sequences/v/extending-geometric-sequences',\n",
       " '/math/algebra/x2f8bb11595b61c86:sequences/x2f8bb11595b61c86:introduction-to-geometric-sequences/v/using-explicit-formulas-of-geometric-sequences',\n",
       " '/math/algebra/x2f8bb11595b61c86:sequences/x2f8bb11595b61c86:introduction-to-geometric-sequences/v/using-recursive-formulas-of-geometric-sequences',\n",
       " '/math/algebra/x2f8bb11595b61c86:sequences/x2f8bb11595b61c86:constructing-geometric-sequences/v/explicit-and-recursive-formulas-for-geometric-sequences',\n",
       " '/math/algebra/x2f8bb11595b61c86:sequences/x2f8bb11595b61c86:constructing-geometric-sequences/v/converting-an-explicit-function-to-a-recursive-function',\n",
       " '/math/algebra/x2f8bb11595b61c86:sequences/x2f8bb11595b61c86:modeling-with-sequences/v/modeling-situations-with-arithmetic-and-geometric-sequences',\n",
       " '/math/algebra/x2f8bb11595b61c86:sequences/x2f8bb11595b61c86:general-sequences/v/recursive-formulas-for-sequences',\n",
       " '/math/algebra/x2f8bb11595b61c86:sequences/x2f8bb11595b61c86:general-sequences/v/sequences-and-domain']"
      ]
     },
     "execution_count": 98,
     "metadata": {},
     "output_type": "execute_result"
    }
   ],
   "source": [
    "from html.parser import HTMLParser\n",
    "class Parser(HTMLParser):\n",
    "    def __init__(self):\n",
    "        HTMLParser.__init__(self)\n",
    "        self.href = ''\n",
    "        self.urls = []\n",
    "\n",
    "    def handle_starttag(self, tag, attrs):\n",
    "        if (tag == 'a'):\n",
    "            for (k,v) in attrs:\n",
    "                if (k == 'href'):\n",
    "                    self.href = v\n",
    "        elif (tag == 'span'):\n",
    "            for (k,v) in attrs:\n",
    "                if (k == 'aria-label' and v == 'Video'):\n",
    "                    self.urls.append(self.href)            \n",
    "\n",
    "\n",
    "\n",
    "parser = Parser()\n",
    "parser.feed(html)\n",
    "parser.urls\n"
   ]
  },
  {
   "cell_type": "code",
   "execution_count": 32,
   "id": "4eceda0e",
   "metadata": {},
   "outputs": [
    {
     "name": "stderr",
     "output_type": "stream",
     "text": [
      "[0521/115618.386214:WARNING:runtime_features.cc(730)] AttributionReportingCrossAppWeb cannot be enabled in this configuration. Use --enable-features=ConversionMeasurement,AttributionReportingCrossAppWeb in addition.\n",
      "[0521/115618.527860:WARNING:runtime_features.cc(730)] AttributionReportingCrossAppWeb cannot be enabled in this configuration. Use --enable-features=ConversionMeasurement,AttributionReportingCrossAppWeb in addition.\n"
     ]
    }
   ],
   "source": [
    "video_url = site + parser.urls[0]\n",
    "video_html = get_html_from_url(video_url)\n",
    "\n",
    "\n"
   ]
  },
  {
   "cell_type": "code",
   "execution_count": 49,
   "id": "08608872",
   "metadata": {},
   "outputs": [
    {
     "name": "stdout",
     "output_type": "stream",
     "text": [
      "[('src', 'https://www.googletagmanager.com/ns.html?id=GTM-WSX5PBP'), ('height', '0'), ('width', '0'), ('style', 'display:none;visibility:hidden')]\n",
      "Systems Of Equations: Trolls, Tolls (1 Of 2) A troll forces us to use algebra to figure out the make-up of his currency. We end up setting up a system of equations. Created by Sal Khan.\n"
     ]
    }
   ],
   "source": [
    "class VideoParser(HTMLParser):\n",
    "    def __init__(self):\n",
    "        HTMLParser.__init__(self)\n",
    "        self.start_h1 = False\n",
    "        self.start_div = False\n",
    "        self.start_iframe = False\n",
    "        \n",
    "        self.name = ''\n",
    "        self.desc = ''\n",
    "\n",
    "    def handle_starttag(self, tag, attrs):\n",
    "        if (tag == 'h1'):\n",
    "            self.start_h1 = True       \n",
    "        elif (tag == 'div'):\n",
    "            for (k,v) in attrs:\n",
    "                if (k == 'id' and v == 'ka-videoPageTabs-tabbedpanel-content'):\n",
    "                    self.start_div = True\n",
    "        elif (tag == 'iframe'):\n",
    "            print(attrs)\n",
    "            for (k,v) in attrs:\n",
    "                if(k == 'data-youtubeid'):\n",
    "                    print(v)\n",
    "\n",
    "    def handle_endtag(self, tag):\n",
    "        if (tag == 'h1'):\n",
    "            self.start_h1 = False\n",
    "        elif (tag == 'div'):\n",
    "            self.start_div = False\n",
    "            \n",
    "    def handle_data(self, data):\n",
    "        if self.start_h1:\n",
    "            self.name = data.title()\n",
    "        if self.start_div:\n",
    "            self.desc += data\n",
    "\n",
    "video_parser = VideoParser()\n",
    "video_parser.feed(video_html)\n",
    "print(video_parser.name, video_parser.desc)\n",
    "\n",
    "\n"
   ]
  },
  {
   "cell_type": "code",
   "execution_count": 78,
   "id": "9e95b222",
   "metadata": {},
   "outputs": [],
   "source": [
    "def get_searched_value(video_html, searchStr):\n",
    "    x = video_html.find(searchStr)\n",
    "    start = video_html.find('\"', x+len(searchStr))\n",
    "    end = video_html.find('\"', start+1)\n",
    "    return video_html[start+1:end]\n",
    "\n",
    "\n",
    "def get_topic(video_html):\n",
    "    desc =  get_searched_value(video_html, '\"translatedDescription\":')\n",
    "    name = get_searched_value(video_html, '\"translatedTitle\":').title()\n",
    "    videoID = get_searched_value(video_html, '\"translatedYoutubeId\":')\n",
    "    return {\n",
    "        \"name\": name,\n",
    "        \"description\": desc,\n",
    "        \"texts\": [\"text1.md\"],\n",
    "        \"video_parts\": [{\n",
    "            \"id\": videoID\n",
    "        }],\n",
    "        \"node_type\": \"lecture\",\n",
    "        \"parent_id\": \"khan-algebra-1\",\n",
    "        \"thumbnail\": \"\"\n",
    "    }"
   ]
  },
  {
   "cell_type": "code",
   "execution_count": null,
   "id": "29fc625e",
   "metadata": {},
   "outputs": [
    {
     "name": "stdout",
     "output_type": "stream",
     "text": [
      "{\n",
      "    \"name\": \"Sequences Intro\",\n",
      "    \"description\": \"Sequences are ordered lists of numbers (called \\\\\",\n",
      "    \"texts\": [\n",
      "        \"text1.md\"\n",
      "    ],\n",
      "    \"video_parts\": [\n",
      "        {\n",
      "            \"id\": \"KRFiAlo7t1E\"\n",
      "        }\n",
      "    ],\n",
      "    \"node_type\": \"lecture\",\n",
      "    \"parent_id\": \"khan-algebra-1\",\n",
      "    \"thumbnail\": \"\"\n",
      "}\n",
      "{\n",
      "    \"name\": \"Intro To Arithmetic Sequences\",\n",
      "    \"description\": \"Sal introduces arithmetic sequences and their main features, the initial term and the common difference. He gives various examples of such sequences, defined explicitly and recursively.\",\n",
      "    \"texts\": [\n",
      "        \"text1.md\"\n",
      "    ],\n",
      "    \"video_parts\": [\n",
      "        {\n",
      "            \"id\": \"_cooC3yG_p0\"\n",
      "        }\n",
      "    ],\n",
      "    \"node_type\": \"lecture\",\n",
      "    \"parent_id\": \"khan-algebra-1\",\n",
      "    \"thumbnail\": \"\"\n",
      "}\n"
     ]
    }
   ],
   "source": [
    "\n",
    "topics = []\n",
    "for url in parser.urls:\n",
    "    video_url = site + url\n",
    "    video_html = get_html_from_url(video_url)\n",
    "    topic = get_topic(video_html)\n",
    "    print(json.dumps(topic, indent=4))\n",
    "    topics.append(topic)\n",
    "    \n",
    "\n",
    "\n",
    "    \n",
    "    \n",
    "    \n",
    "    "
   ]
  }
 ],
 "metadata": {
  "kernelspec": {
   "display_name": "Python 3 (ipykernel)",
   "language": "python",
   "name": "python3"
  },
  "language_info": {
   "codemirror_mode": {
    "name": "ipython",
    "version": 3
   },
   "file_extension": ".py",
   "mimetype": "text/x-python",
   "name": "python",
   "nbconvert_exporter": "python",
   "pygments_lexer": "ipython3",
   "version": "3.11.5"
  }
 },
 "nbformat": 4,
 "nbformat_minor": 5
}
