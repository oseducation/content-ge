{
 "cells": [
  {
   "cell_type": "code",
   "execution_count": 7,
   "id": "1edbe2fd",
   "metadata": {},
   "outputs": [],
   "source": [
    "import subprocess\n",
    "def get_html_from_url(url):\n",
    "    cmds = [\"/Applications/Google\\ Chrome.app/Contents/MacOS/Google\\ Chrome\", \"--headless\", \"--dump-dom\"]\n",
    "    cmds = [\"/Applications/Google Chrome.app/Contents/MacOS/Google Chrome\", \"--headless\", \"--dump-dom\"]\n",
    "    cmds.append(url)\n",
    "    result = subprocess.run(cmds, stdout=subprocess.PIPE)\n",
    "    text = result.stdout.decode('utf-8')\n",
    "    return text\n",
    "    \n",
    "# t = get_html_from_url(\"https://www.khanacademy.org/math/algebra/x2f8bb11595b61c86:systems-of-equations/x2f8bb11595b61c86:introduction-to-systems-of-equations/v/trolls-tolls-and-systems-of-equation\")\n",
    "# t\n",
    "# # result = subprocess.run(['pwd'], stdout=subprocess.PIPE)\n",
    "# # text = result.stdout.decode('utf-8')\n",
    "# # text\n"
   ]
  },
  {
   "cell_type": "code",
   "execution_count": 82,
   "id": "588154fd",
   "metadata": {},
   "outputs": [],
   "source": [
    "# unit_url = \"https://www.khanacademy.org/math/algebra/x2f8bb11595b61c86:systems-of-equations/x2f8bb11595b61c86:introduction-to-systems-of-equations\"\n",
    "unit_url = \"https://www.khanacademy.org/math/algebra/x2f8bb11595b61c86:inequalities-systems-graphs\"\n",
    "site = \"https://www.khanacademy.org\""
   ]
  },
  {
   "cell_type": "code",
   "execution_count": 83,
   "id": "bf04031e",
   "metadata": {},
   "outputs": [
    {
     "name": "stderr",
     "output_type": "stream",
     "text": [
      "[0522/131928.313956:WARNING:runtime_features.cc(730)] AttributionReportingCrossAppWeb cannot be enabled in this configuration. Use --enable-features=ConversionMeasurement,AttributionReportingCrossAppWeb in addition.\n",
      "[0522/131928.460477:WARNING:runtime_features.cc(730)] AttributionReportingCrossAppWeb cannot be enabled in this configuration. Use --enable-features=ConversionMeasurement,AttributionReportingCrossAppWeb in addition.\n"
     ]
    }
   ],
   "source": [
    "from xml.dom.minidom import parseString\n",
    "\n",
    "html = get_html_from_url(unit_url)\n",
    "\n"
   ]
  },
  {
   "cell_type": "code",
   "execution_count": 84,
   "id": "6de583d8",
   "metadata": {},
   "outputs": [
    {
     "data": {
      "text/plain": [
       "['/math/algebra/x2f8bb11595b61c86:inequalities-systems-graphs/x2f8bb11595b61c86:checking-solutions-of-two-variable-inequalities/v/graphing-inequalities-1',\n",
       " '/math/algebra/x2f8bb11595b61c86:inequalities-systems-graphs/x2f8bb11595b61c86:checking-solutions-of-two-variable-inequalities/v/testing-solutions-for-a-system-of-inequalities',\n",
       " '/math/algebra/x2f8bb11595b61c86:inequalities-systems-graphs/x2f8bb11595b61c86:graphing-two-variable-inequalities/v/graphing-inequalities',\n",
       " '/math/algebra/x2f8bb11595b61c86:inequalities-systems-graphs/x2f8bb11595b61c86:graphing-two-variable-inequalities/v/graphing-linear-inequalities-in-two-variables-example-2',\n",
       " '/math/algebra/x2f8bb11595b61c86:inequalities-systems-graphs/x2f8bb11595b61c86:graphing-two-variable-inequalities/v/graphing-linear-inequalities-in-two-variables-3',\n",
       " '/math/algebra/x2f8bb11595b61c86:inequalities-systems-graphs/x2f8bb11595b61c86:graphing-two-variable-inequalities/v/graphical-system-of-inequalities',\n",
       " '/math/algebra/x2f8bb11595b61c86:inequalities-systems-graphs/x2f8bb11595b61c86:graphing-two-variable-inequalities/v/graphing-systems-of-inequalities-2',\n",
       " '/math/algebra/x2f8bb11595b61c86:inequalities-systems-graphs/x2f8bb11595b61c86:modeling-with-linear-inequalities/v/constructing-two-variable-linear-inequality-word-problem',\n",
       " '/math/algebra/x2f8bb11595b61c86:inequalities-systems-graphs/x2f8bb11595b61c86:modeling-with-linear-inequalities/v/solving-two-variable-linear-inequality-word-problem',\n",
       " '/math/algebra/x2f8bb11595b61c86:inequalities-systems-graphs/x2f8bb11595b61c86:modeling-with-linear-inequalities/v/analyzing-two-variable-linear-inequality',\n",
       " '/math/algebra/x2f8bb11595b61c86:inequalities-systems-graphs/x2f8bb11595b61c86:modeling-with-linear-inequalities/v/u06-l3-t1-we3-graphing-systems-of-inequalities',\n",
       " '/math/algebra/x2f8bb11595b61c86:inequalities-systems-graphs/x2f8bb11595b61c86:modeling-with-linear-inequalities/v/creating-system-of-inequalities-word-problem',\n",
       " '/math/algebra/x2f8bb11595b61c86:inequalities-systems-graphs/x2f8bb11595b61c86:modeling-with-linear-inequalities/v/interpreting-system-of-inequalities-in-context',\n",
       " '/math/algebra/x2f8bb11595b61c86:inequalities-systems-graphs/x2f8bb11595b61c86:modeling-with-linear-inequalities/v/graph-of-system-of-inequalities-word-problem',\n",
       " '/math/algebra/x2f8bb11595b61c86:inequalities-systems-graphs/x2f8bb11595b61c86:modeling-with-linear-inequalities/v/interpreting-visual-linear-inequality-word-problem',\n",
       " '/math/algebra/x2f8bb11595b61c86:inequalities-systems-graphs/x2f8bb11595b61c86:modeling-with-linear-inequalities/v/expand-creative-skills']"
      ]
     },
     "execution_count": 84,
     "metadata": {},
     "output_type": "execute_result"
    }
   ],
   "source": [
    "from html.parser import HTMLParser\n",
    "class Parser(HTMLParser):\n",
    "    def __init__(self):\n",
    "        HTMLParser.__init__(self)\n",
    "        self.href = ''\n",
    "        self.urls = []\n",
    "\n",
    "    def handle_starttag(self, tag, attrs):\n",
    "        if (tag == 'a'):\n",
    "            for (k,v) in attrs:\n",
    "                if (k == 'href'):\n",
    "                    self.href = v\n",
    "        elif (tag == 'span'):\n",
    "            for (k,v) in attrs:\n",
    "                if (k == 'aria-label' and v == 'Video'):\n",
    "                    self.urls.append(self.href)            \n",
    "\n",
    "\n",
    "\n",
    "parser = Parser()\n",
    "parser.feed(html)\n",
    "parser.urls\n"
   ]
  },
  {
   "cell_type": "code",
   "execution_count": 32,
   "id": "367f0dcd",
   "metadata": {},
   "outputs": [
    {
     "name": "stderr",
     "output_type": "stream",
     "text": [
      "[0521/115618.386214:WARNING:runtime_features.cc(730)] AttributionReportingCrossAppWeb cannot be enabled in this configuration. Use --enable-features=ConversionMeasurement,AttributionReportingCrossAppWeb in addition.\n",
      "[0521/115618.527860:WARNING:runtime_features.cc(730)] AttributionReportingCrossAppWeb cannot be enabled in this configuration. Use --enable-features=ConversionMeasurement,AttributionReportingCrossAppWeb in addition.\n"
     ]
    }
   ],
   "source": [
    "video_url = site + parser.urls[0]\n",
    "video_html = get_html_from_url(video_url)\n",
    "\n",
    "\n"
   ]
  },
  {
   "cell_type": "code",
   "execution_count": 49,
   "id": "2f15b573",
   "metadata": {},
   "outputs": [
    {
     "name": "stdout",
     "output_type": "stream",
     "text": [
      "[('src', 'https://www.googletagmanager.com/ns.html?id=GTM-WSX5PBP'), ('height', '0'), ('width', '0'), ('style', 'display:none;visibility:hidden')]\n",
      "Systems Of Equations: Trolls, Tolls (1 Of 2) A troll forces us to use algebra to figure out the make-up of his currency. We end up setting up a system of equations. Created by Sal Khan.\n"
     ]
    }
   ],
   "source": [
    "class VideoParser(HTMLParser):\n",
    "    def __init__(self):\n",
    "        HTMLParser.__init__(self)\n",
    "        self.start_h1 = False\n",
    "        self.start_div = False\n",
    "        self.start_iframe = False\n",
    "        \n",
    "        self.name = ''\n",
    "        self.desc = ''\n",
    "\n",
    "    def handle_starttag(self, tag, attrs):\n",
    "        if (tag == 'h1'):\n",
    "            self.start_h1 = True       \n",
    "        elif (tag == 'div'):\n",
    "            for (k,v) in attrs:\n",
    "                if (k == 'id' and v == 'ka-videoPageTabs-tabbedpanel-content'):\n",
    "                    self.start_div = True\n",
    "        elif (tag == 'iframe'):\n",
    "            print(attrs)\n",
    "            for (k,v) in attrs:\n",
    "                if(k == 'data-youtubeid'):\n",
    "                    print(v)\n",
    "\n",
    "    def handle_endtag(self, tag):\n",
    "        if (tag == 'h1'):\n",
    "            self.start_h1 = False\n",
    "        elif (tag == 'div'):\n",
    "            self.start_div = False\n",
    "            \n",
    "    def handle_data(self, data):\n",
    "        if self.start_h1:\n",
    "            self.name = data.title()\n",
    "        if self.start_div:\n",
    "            self.desc += data\n",
    "\n",
    "video_parser = VideoParser()\n",
    "video_parser.feed(video_html)\n",
    "print(video_parser.name, video_parser.desc)\n",
    "\n",
    "\n"
   ]
  },
  {
   "cell_type": "code",
   "execution_count": 78,
   "id": "9ff4e615",
   "metadata": {},
   "outputs": [],
   "source": [
    "def get_searched_value(video_html, searchStr):\n",
    "    x = video_html.find(searchStr)\n",
    "    start = video_html.find('\"', x+len(searchStr))\n",
    "    end = video_html.find('\"', start+1)\n",
    "    return video_html[start+1:end]\n",
    "\n",
    "\n",
    "def get_topic(video_html):\n",
    "    desc =  get_searched_value(video_html, '\"translatedDescription\":')\n",
    "    name = get_searched_value(video_html, '\"translatedTitle\":').title()\n",
    "    videoID = get_searched_value(video_html, '\"translatedYoutubeId\":')\n",
    "    return {\n",
    "        \"name\": name,\n",
    "        \"description\": desc,\n",
    "        \"texts\": [\"text1.md\"],\n",
    "        \"video_parts\": [{\n",
    "            \"id\": videoID\n",
    "        }],\n",
    "        \"node_type\": \"lecture\",\n",
    "        \"parent_id\": \"khan-algebra-1\",\n",
    "        \"thumbnail\": \"\"\n",
    "    }"
   ]
  },
  {
   "cell_type": "code",
   "execution_count": 86,
   "id": "a201fa57",
   "metadata": {},
   "outputs": [
    {
     "name": "stderr",
     "output_type": "stream",
     "text": [
      "[0522/132141.910254:WARNING:runtime_features.cc(730)] AttributionReportingCrossAppWeb cannot be enabled in this configuration. Use --enable-features=ConversionMeasurement,AttributionReportingCrossAppWeb in addition.\n",
      "[0522/132142.043472:WARNING:runtime_features.cc(730)] AttributionReportingCrossAppWeb cannot be enabled in this configuration. Use --enable-features=ConversionMeasurement,AttributionReportingCrossAppWeb in addition.\n"
     ]
    },
    {
     "name": "stdout",
     "output_type": "stream",
     "text": [
      "{\n",
      "    \"name\": \"Testing Solutions To Inequalities \",\n",
      "    \"description\": \"Sal checks if the ordered pairs (3,5) and (1,-7) are solutions of the inequality 5x-3y\\u226525.\",\n",
      "    \"texts\": [\n",
      "        \"text1.md\"\n",
      "    ],\n",
      "    \"video_parts\": [\n",
      "        {\n",
      "            \"id\": \"2oGsLdAWxlk\"\n",
      "        }\n",
      "    ],\n",
      "    \"node_type\": \"lecture\",\n",
      "    \"parent_id\": \"khan-algebra-1\",\n",
      "    \"thumbnail\": \"\"\n",
      "}\n"
     ]
    },
    {
     "name": "stderr",
     "output_type": "stream",
     "text": [
      "[0522/132207.598824:WARNING:runtime_features.cc(730)] AttributionReportingCrossAppWeb cannot be enabled in this configuration. Use --enable-features=ConversionMeasurement,AttributionReportingCrossAppWeb in addition.\n",
      "[0522/132207.634762:WARNING:runtime_features.cc(730)] AttributionReportingCrossAppWeb cannot be enabled in this configuration. Use --enable-features=ConversionMeasurement,AttributionReportingCrossAppWeb in addition.\n"
     ]
    },
    {
     "name": "stdout",
     "output_type": "stream",
     "text": [
      "{\n",
      "    \"name\": \"Testing Solutions To Systems Of Inequalities\",\n",
      "    \"description\": \"Sal checks whether the ordered pair (2,5) is a solution of the following system: y\\u22652x+1 and x>1.\",\n",
      "    \"texts\": [\n",
      "        \"text1.md\"\n",
      "    ],\n",
      "    \"video_parts\": [\n",
      "        {\n",
      "            \"id\": \"XzYNh2wpO0A\"\n",
      "        }\n",
      "    ],\n",
      "    \"node_type\": \"lecture\",\n",
      "    \"parent_id\": \"khan-algebra-1\",\n",
      "    \"thumbnail\": \"\"\n",
      "}\n"
     ]
    },
    {
     "name": "stderr",
     "output_type": "stream",
     "text": [
      "[0522/132224.010125:WARNING:runtime_features.cc(730)] AttributionReportingCrossAppWeb cannot be enabled in this configuration. Use --enable-features=ConversionMeasurement,AttributionReportingCrossAppWeb in addition.\n",
      "[0522/132224.046031:WARNING:runtime_features.cc(730)] AttributionReportingCrossAppWeb cannot be enabled in this configuration. Use --enable-features=ConversionMeasurement,AttributionReportingCrossAppWeb in addition.\n"
     ]
    },
    {
     "name": "stdout",
     "output_type": "stream",
     "text": [
      "{\n",
      "    \"name\": \"Intro To Graphing Two-Variable Inequalities\",\n",
      "    \"description\": \"Learn how to graph two-variable linear inequalities like y\\u22644x+3.\",\n",
      "    \"texts\": [\n",
      "        \"text1.md\"\n",
      "    ],\n",
      "    \"video_parts\": [\n",
      "        {\n",
      "            \"id\": \"unSBFwK881s\"\n",
      "        }\n",
      "    ],\n",
      "    \"node_type\": \"lecture\",\n",
      "    \"parent_id\": \"khan-algebra-1\",\n",
      "    \"thumbnail\": \"\"\n",
      "}\n"
     ]
    },
    {
     "name": "stderr",
     "output_type": "stream",
     "text": [
      "[0522/132248.997212:WARNING:runtime_features.cc(730)] AttributionReportingCrossAppWeb cannot be enabled in this configuration. Use --enable-features=ConversionMeasurement,AttributionReportingCrossAppWeb in addition.\n",
      "[0522/132249.032613:WARNING:runtime_features.cc(730)] AttributionReportingCrossAppWeb cannot be enabled in this configuration. Use --enable-features=ConversionMeasurement,AttributionReportingCrossAppWeb in addition.\n",
      "[0522/132319.723637:ERROR:shared_image_manager.cc(325)] SharedImageManager::ProduceMemory: Trying to Produce a Memory representation from a non-existent mailbox.\n",
      "[0522/132319.725817:ERROR:shared_image_manager.cc(325)] SharedImageManager::ProduceMemory: Trying to Produce a Memory representation from a non-existent mailbox.\n",
      "[0522/132319.725833:ERROR:shared_image_manager.cc(325)] SharedImageManager::ProduceMemory: Trying to Produce a Memory representation from a non-existent mailbox.\n",
      "[0522/132319.725842:ERROR:shared_image_manager.cc(325)] SharedImageManager::ProduceMemory: Trying to Produce a Memory representation from a non-existent mailbox.\n"
     ]
    },
    {
     "name": "stdout",
     "output_type": "stream",
     "text": [
      "{\n",
      "    \"name\": \"Stylesheet\",\n",
      "    \"description\": \"stylesheet\",\n",
      "    \"texts\": [\n",
      "        \"text1.md\"\n",
      "    ],\n",
      "    \"video_parts\": [\n",
      "        {\n",
      "            \"id\": \"stylesheet\"\n",
      "        }\n",
      "    ],\n",
      "    \"node_type\": \"lecture\",\n",
      "    \"parent_id\": \"khan-algebra-1\",\n",
      "    \"thumbnail\": \"\"\n",
      "}\n"
     ]
    },
    {
     "name": "stderr",
     "output_type": "stream",
     "text": [
      "[0522/132319.956633:WARNING:runtime_features.cc(730)] AttributionReportingCrossAppWeb cannot be enabled in this configuration. Use --enable-features=ConversionMeasurement,AttributionReportingCrossAppWeb in addition.\n",
      "[0522/132319.992878:WARNING:runtime_features.cc(730)] AttributionReportingCrossAppWeb cannot be enabled in this configuration. Use --enable-features=ConversionMeasurement,AttributionReportingCrossAppWeb in addition.\n"
     ]
    },
    {
     "name": "stdout",
     "output_type": "stream",
     "text": [
      "{\n",
      "    \"name\": \"Two-Variable Inequalities From Their Graphs\",\n",
      "    \"description\": \"Sal is given a graph and he analyzes it to find the two-variable inequality it represents.\",\n",
      "    \"texts\": [\n",
      "        \"text1.md\"\n",
      "    ],\n",
      "    \"video_parts\": [\n",
      "        {\n",
      "            \"id\": \"YBYu5aZPLeg\"\n",
      "        }\n",
      "    ],\n",
      "    \"node_type\": \"lecture\",\n",
      "    \"parent_id\": \"khan-algebra-1\",\n",
      "    \"thumbnail\": \"\"\n",
      "}\n"
     ]
    },
    {
     "name": "stderr",
     "output_type": "stream",
     "text": [
      "[0522/132338.846606:WARNING:runtime_features.cc(730)] AttributionReportingCrossAppWeb cannot be enabled in this configuration. Use --enable-features=ConversionMeasurement,AttributionReportingCrossAppWeb in addition.\n",
      "[0522/132338.882630:WARNING:runtime_features.cc(730)] AttributionReportingCrossAppWeb cannot be enabled in this configuration. Use --enable-features=ConversionMeasurement,AttributionReportingCrossAppWeb in addition.\n",
      "[0522/132353.291950:WARNING:runtime_features.cc(730)] AttributionReportingCrossAppWeb cannot be enabled in this configuration. Use --enable-features=ConversionMeasurement,AttributionReportingCrossAppWeb in addition.\n",
      "[0522/132353.482738:WARNING:runtime_features.cc(730)] AttributionReportingCrossAppWeb cannot be enabled in this configuration. Use --enable-features=ConversionMeasurement,AttributionReportingCrossAppWeb in addition.\n"
     ]
    },
    {
     "name": "stdout",
     "output_type": "stream",
     "text": [
      "{\n",
      "    \"name\": \"<Html><Head></Head><Body></Body></Html>\",\n",
      "    \"description\": \"<html><head></head><body></body></html>\",\n",
      "    \"texts\": [\n",
      "        \"text1.md\"\n",
      "    ],\n",
      "    \"video_parts\": [\n",
      "        {\n",
      "            \"id\": \"<html><head></head><body></body></html>\"\n",
      "        }\n",
      "    ],\n",
      "    \"node_type\": \"lecture\",\n",
      "    \"parent_id\": \"khan-algebra-1\",\n",
      "    \"thumbnail\": \"\"\n",
      "}\n"
     ]
    },
    {
     "name": "stderr",
     "output_type": "stream",
     "text": [
      "[0522/132353.518564:WARNING:runtime_features.cc(730)] AttributionReportingCrossAppWeb cannot be enabled in this configuration. Use --enable-features=ConversionMeasurement,AttributionReportingCrossAppWeb in addition.\n"
     ]
    },
    {
     "name": "stdout",
     "output_type": "stream",
     "text": [
      "{\n",
      "    \"name\": \"Graphing Systems Of Inequalities\",\n",
      "    \"description\": \"Sal graphs the solution set of the system \\\\\",\n",
      "    \"texts\": [\n",
      "        \"text1.md\"\n",
      "    ],\n",
      "    \"video_parts\": [\n",
      "        {\n",
      "            \"id\": \"YjT3QYfoy4Q\"\n",
      "        }\n",
      "    ],\n",
      "    \"node_type\": \"lecture\",\n",
      "    \"parent_id\": \"khan-algebra-1\",\n",
      "    \"thumbnail\": \"\"\n",
      "}\n"
     ]
    },
    {
     "name": "stderr",
     "output_type": "stream",
     "text": [
      "[0522/132429.455737:WARNING:runtime_features.cc(730)] AttributionReportingCrossAppWeb cannot be enabled in this configuration. Use --enable-features=ConversionMeasurement,AttributionReportingCrossAppWeb in addition.\n",
      "[0522/132429.490173:WARNING:runtime_features.cc(730)] AttributionReportingCrossAppWeb cannot be enabled in this configuration. Use --enable-features=ConversionMeasurement,AttributionReportingCrossAppWeb in addition.\n"
     ]
    },
    {
     "name": "stdout",
     "output_type": "stream",
     "text": [
      "{\n",
      "    \"name\": \"Writing Two-Variable Inequalities Word Problem\",\n",
      "    \"description\": \"Sal solves a word problem about scores in a chess tournament by creating a two-variable linear inequality.\",\n",
      "    \"texts\": [\n",
      "        \"text1.md\"\n",
      "    ],\n",
      "    \"video_parts\": [\n",
      "        {\n",
      "            \"id\": \"MHgi8ZQCG0I\"\n",
      "        }\n",
      "    ],\n",
      "    \"node_type\": \"lecture\",\n",
      "    \"parent_id\": \"khan-algebra-1\",\n",
      "    \"thumbnail\": \"\"\n",
      "}\n"
     ]
    },
    {
     "name": "stderr",
     "output_type": "stream",
     "text": [
      "[0522/132444.547167:WARNING:runtime_features.cc(730)] AttributionReportingCrossAppWeb cannot be enabled in this configuration. Use --enable-features=ConversionMeasurement,AttributionReportingCrossAppWeb in addition.\n",
      "[0522/132444.581921:WARNING:runtime_features.cc(730)] AttributionReportingCrossAppWeb cannot be enabled in this configuration. Use --enable-features=ConversionMeasurement,AttributionReportingCrossAppWeb in addition.\n"
     ]
    },
    {
     "name": "stdout",
     "output_type": "stream",
     "text": [
      "{\n",
      "    \"name\": \"Solving Two-Variable Inequalities Word Problem\",\n",
      "    \"description\": \"Given a two-variable linear inequality that models a context about watering plants, Sal finds how many flowers can be watered.\",\n",
      "    \"texts\": [\n",
      "        \"text1.md\"\n",
      "    ],\n",
      "    \"video_parts\": [\n",
      "        {\n",
      "            \"id\": \"ysdY1iX_XCs\"\n",
      "        }\n",
      "    ],\n",
      "    \"node_type\": \"lecture\",\n",
      "    \"parent_id\": \"khan-algebra-1\",\n",
      "    \"thumbnail\": \"\"\n",
      "}\n"
     ]
    },
    {
     "name": "stderr",
     "output_type": "stream",
     "text": [
      "[0522/132455.583964:WARNING:runtime_features.cc(730)] AttributionReportingCrossAppWeb cannot be enabled in this configuration. Use --enable-features=ConversionMeasurement,AttributionReportingCrossAppWeb in addition.\n",
      "[0522/132455.621541:WARNING:runtime_features.cc(730)] AttributionReportingCrossAppWeb cannot be enabled in this configuration. Use --enable-features=ConversionMeasurement,AttributionReportingCrossAppWeb in addition.\n"
     ]
    },
    {
     "name": "stdout",
     "output_type": "stream",
     "text": [
      "{\n",
      "    \"name\": \"Interpreting Two-Variable Inequalities Word Problem\",\n",
      "    \"description\": \"Sal analyzes a two-variable linear inequality that models a context about YouTube videos.\",\n",
      "    \"texts\": [\n",
      "        \"text1.md\"\n",
      "    ],\n",
      "    \"video_parts\": [\n",
      "        {\n",
      "            \"id\": \"TTYDbGXgcCk\"\n",
      "        }\n",
      "    ],\n",
      "    \"node_type\": \"lecture\",\n",
      "    \"parent_id\": \"khan-algebra-1\",\n",
      "    \"thumbnail\": \"\"\n",
      "}\n"
     ]
    },
    {
     "name": "stderr",
     "output_type": "stream",
     "text": [
      "[0522/132532.472365:WARNING:runtime_features.cc(730)] AttributionReportingCrossAppWeb cannot be enabled in this configuration. Use --enable-features=ConversionMeasurement,AttributionReportingCrossAppWeb in addition.\n",
      "[0522/132532.508307:WARNING:runtime_features.cc(730)] AttributionReportingCrossAppWeb cannot be enabled in this configuration. Use --enable-features=ConversionMeasurement,AttributionReportingCrossAppWeb in addition.\n"
     ]
    },
    {
     "name": "stdout",
     "output_type": "stream",
     "text": [
      "{\n",
      "    \"name\": \"Modeling With Systems Of Inequalities\",\n",
      "    \"description\": \"Sal models a real-world context into an algebraic system of linear inequalities and graphs it.\",\n",
      "    \"texts\": [\n",
      "        \"text1.md\"\n",
      "    ],\n",
      "    \"video_parts\": [\n",
      "        {\n",
      "            \"id\": \"BUmLw5m6F9s\"\n",
      "        }\n",
      "    ],\n",
      "    \"node_type\": \"lecture\",\n",
      "    \"parent_id\": \"khan-algebra-1\",\n",
      "    \"thumbnail\": \"\"\n",
      "}\n"
     ]
    },
    {
     "name": "stderr",
     "output_type": "stream",
     "text": [
      "[0522/132552.097050:WARNING:runtime_features.cc(730)] AttributionReportingCrossAppWeb cannot be enabled in this configuration. Use --enable-features=ConversionMeasurement,AttributionReportingCrossAppWeb in addition.\n",
      "[0522/132552.132154:WARNING:runtime_features.cc(730)] AttributionReportingCrossAppWeb cannot be enabled in this configuration. Use --enable-features=ConversionMeasurement,AttributionReportingCrossAppWeb in addition.\n"
     ]
    },
    {
     "name": "stdout",
     "output_type": "stream",
     "text": [
      "{\n",
      "    \"name\": \"Writing Systems Of Inequalities Word Problem\",\n",
      "    \"description\": \"Sal models a word problem about baking cupcakes and muffins by creating a system of linear inequalities.\",\n",
      "    \"texts\": [\n",
      "        \"text1.md\"\n",
      "    ],\n",
      "    \"video_parts\": [\n",
      "        {\n",
      "            \"id\": \"jRnkxSfwIpU\"\n",
      "        }\n",
      "    ],\n",
      "    \"node_type\": \"lecture\",\n",
      "    \"parent_id\": \"khan-algebra-1\",\n",
      "    \"thumbnail\": \"\"\n",
      "}\n"
     ]
    },
    {
     "name": "stderr",
     "output_type": "stream",
     "text": [
      "[0522/132605.485969:WARNING:runtime_features.cc(730)] AttributionReportingCrossAppWeb cannot be enabled in this configuration. Use --enable-features=ConversionMeasurement,AttributionReportingCrossAppWeb in addition.\n",
      "[0522/132605.521113:WARNING:runtime_features.cc(730)] AttributionReportingCrossAppWeb cannot be enabled in this configuration. Use --enable-features=ConversionMeasurement,AttributionReportingCrossAppWeb in addition.\n"
     ]
    },
    {
     "name": "stdout",
     "output_type": "stream",
     "text": [
      "{\n",
      "    \"name\": \"Solving Systems Of Inequalities Word Problem\",\n",
      "    \"description\": \"Given a system of linear inequalities that models a context about making chairs and tables, Sal finds how many can be made.\",\n",
      "    \"texts\": [\n",
      "        \"text1.md\"\n",
      "    ],\n",
      "    \"video_parts\": [\n",
      "        {\n",
      "            \"id\": \"ZTKAn9YNbNY\"\n",
      "        }\n",
      "    ],\n",
      "    \"node_type\": \"lecture\",\n",
      "    \"parent_id\": \"khan-algebra-1\",\n",
      "    \"thumbnail\": \"\"\n",
      "}\n"
     ]
    },
    {
     "name": "stderr",
     "output_type": "stream",
     "text": [
      "[0522/132618.675090:WARNING:runtime_features.cc(730)] AttributionReportingCrossAppWeb cannot be enabled in this configuration. Use --enable-features=ConversionMeasurement,AttributionReportingCrossAppWeb in addition.\n",
      "[0522/132618.711207:WARNING:runtime_features.cc(730)] AttributionReportingCrossAppWeb cannot be enabled in this configuration. Use --enable-features=ConversionMeasurement,AttributionReportingCrossAppWeb in addition.\n"
     ]
    },
    {
     "name": "stdout",
     "output_type": "stream",
     "text": [
      "{\n",
      "    \"name\": \"Graphs Of Systems Of Inequalities Word Problem\",\n",
      "    \"description\": \"Given the graph of a two-variable linear inequality that models a context about chopping vegetables, Sal finds if there's enough time to chop!\",\n",
      "    \"texts\": [\n",
      "        \"text1.md\"\n",
      "    ],\n",
      "    \"video_parts\": [\n",
      "        {\n",
      "            \"id\": \"C_7Tqk9fw4k\"\n",
      "        }\n",
      "    ],\n",
      "    \"node_type\": \"lecture\",\n",
      "    \"parent_id\": \"khan-algebra-1\",\n",
      "    \"thumbnail\": \"\"\n",
      "}\n"
     ]
    },
    {
     "name": "stderr",
     "output_type": "stream",
     "text": [
      "[0522/132635.626455:WARNING:runtime_features.cc(730)] AttributionReportingCrossAppWeb cannot be enabled in this configuration. Use --enable-features=ConversionMeasurement,AttributionReportingCrossAppWeb in addition.\n",
      "[0522/132635.661431:WARNING:runtime_features.cc(730)] AttributionReportingCrossAppWeb cannot be enabled in this configuration. Use --enable-features=ConversionMeasurement,AttributionReportingCrossAppWeb in addition.\n"
     ]
    },
    {
     "name": "stdout",
     "output_type": "stream",
     "text": [
      "{\n",
      "    \"name\": \"Graphs Of Two-Variable Inequalities Word Problem\",\n",
      "    \"description\": \"Given the graph of a two-variable linear inequality that models a context about dog biscuits, Sal finds if the dog can get enough biscuits.\",\n",
      "    \"texts\": [\n",
      "        \"text1.md\"\n",
      "    ],\n",
      "    \"video_parts\": [\n",
      "        {\n",
      "            \"id\": \"DhiiGFuUE9I\"\n",
      "        }\n",
      "    ],\n",
      "    \"node_type\": \"lecture\",\n",
      "    \"parent_id\": \"khan-algebra-1\",\n",
      "    \"thumbnail\": \"\"\n",
      "}\n"
     ]
    },
    {
     "name": "stderr",
     "output_type": "stream",
     "text": [
      "[0522/132647.194982:WARNING:runtime_features.cc(730)] AttributionReportingCrossAppWeb cannot be enabled in this configuration. Use --enable-features=ConversionMeasurement,AttributionReportingCrossAppWeb in addition.\n",
      "[0522/132647.229774:WARNING:runtime_features.cc(730)] AttributionReportingCrossAppWeb cannot be enabled in this configuration. Use --enable-features=ConversionMeasurement,AttributionReportingCrossAppWeb in addition.\n"
     ]
    },
    {
     "name": "stdout",
     "output_type": "stream",
     "text": [
      "{\n",
      "    \"name\": \"Creativity Break: What Can We Do To Expand Our Creative Skills?\",\n",
      "    \"description\": \"Experts share their advice on how to expand our creative skills.\",\n",
      "    \"texts\": [\n",
      "        \"text1.md\"\n",
      "    ],\n",
      "    \"video_parts\": [\n",
      "        {\n",
      "            \"id\": \"SFUG5KpIf_Q\"\n",
      "        }\n",
      "    ],\n",
      "    \"node_type\": \"lecture\",\n",
      "    \"parent_id\": \"khan-algebra-1\",\n",
      "    \"thumbnail\": \"\"\n",
      "}\n"
     ]
    },
    {
     "data": {
      "text/plain": [
       "[{'name': 'Testing Solutions To Inequalities ',\n",
       "  'description': 'Sal checks if the ordered pairs (3,5) and (1,-7) are solutions of the inequality 5x-3y≥25.',\n",
       "  'texts': ['text1.md'],\n",
       "  'video_parts': [{'id': '2oGsLdAWxlk'}],\n",
       "  'node_type': 'lecture',\n",
       "  'parent_id': 'khan-algebra-1',\n",
       "  'thumbnail': ''},\n",
       " {'name': 'Testing Solutions To Systems Of Inequalities',\n",
       "  'description': 'Sal checks whether the ordered pair (2,5) is a solution of the following system: y≥2x+1 and x>1.',\n",
       "  'texts': ['text1.md'],\n",
       "  'video_parts': [{'id': 'XzYNh2wpO0A'}],\n",
       "  'node_type': 'lecture',\n",
       "  'parent_id': 'khan-algebra-1',\n",
       "  'thumbnail': ''},\n",
       " {'name': 'Intro To Graphing Two-Variable Inequalities',\n",
       "  'description': 'Learn how to graph two-variable linear inequalities like y≤4x+3.',\n",
       "  'texts': ['text1.md'],\n",
       "  'video_parts': [{'id': 'unSBFwK881s'}],\n",
       "  'node_type': 'lecture',\n",
       "  'parent_id': 'khan-algebra-1',\n",
       "  'thumbnail': ''},\n",
       " {'name': 'Stylesheet',\n",
       "  'description': 'stylesheet',\n",
       "  'texts': ['text1.md'],\n",
       "  'video_parts': [{'id': 'stylesheet'}],\n",
       "  'node_type': 'lecture',\n",
       "  'parent_id': 'khan-algebra-1',\n",
       "  'thumbnail': ''},\n",
       " {'name': 'Two-Variable Inequalities From Their Graphs',\n",
       "  'description': 'Sal is given a graph and he analyzes it to find the two-variable inequality it represents.',\n",
       "  'texts': ['text1.md'],\n",
       "  'video_parts': [{'id': 'YBYu5aZPLeg'}],\n",
       "  'node_type': 'lecture',\n",
       "  'parent_id': 'khan-algebra-1',\n",
       "  'thumbnail': ''},\n",
       " {'name': '<Html><Head></Head><Body></Body></Html>',\n",
       "  'description': '<html><head></head><body></body></html>',\n",
       "  'texts': ['text1.md'],\n",
       "  'video_parts': [{'id': '<html><head></head><body></body></html>'}],\n",
       "  'node_type': 'lecture',\n",
       "  'parent_id': 'khan-algebra-1',\n",
       "  'thumbnail': ''},\n",
       " {'name': 'Graphing Systems Of Inequalities',\n",
       "  'description': 'Sal graphs the solution set of the system \\\\',\n",
       "  'texts': ['text1.md'],\n",
       "  'video_parts': [{'id': 'YjT3QYfoy4Q'}],\n",
       "  'node_type': 'lecture',\n",
       "  'parent_id': 'khan-algebra-1',\n",
       "  'thumbnail': ''},\n",
       " {'name': 'Writing Two-Variable Inequalities Word Problem',\n",
       "  'description': 'Sal solves a word problem about scores in a chess tournament by creating a two-variable linear inequality.',\n",
       "  'texts': ['text1.md'],\n",
       "  'video_parts': [{'id': 'MHgi8ZQCG0I'}],\n",
       "  'node_type': 'lecture',\n",
       "  'parent_id': 'khan-algebra-1',\n",
       "  'thumbnail': ''},\n",
       " {'name': 'Solving Two-Variable Inequalities Word Problem',\n",
       "  'description': 'Given a two-variable linear inequality that models a context about watering plants, Sal finds how many flowers can be watered.',\n",
       "  'texts': ['text1.md'],\n",
       "  'video_parts': [{'id': 'ysdY1iX_XCs'}],\n",
       "  'node_type': 'lecture',\n",
       "  'parent_id': 'khan-algebra-1',\n",
       "  'thumbnail': ''},\n",
       " {'name': 'Interpreting Two-Variable Inequalities Word Problem',\n",
       "  'description': 'Sal analyzes a two-variable linear inequality that models a context about YouTube videos.',\n",
       "  'texts': ['text1.md'],\n",
       "  'video_parts': [{'id': 'TTYDbGXgcCk'}],\n",
       "  'node_type': 'lecture',\n",
       "  'parent_id': 'khan-algebra-1',\n",
       "  'thumbnail': ''},\n",
       " {'name': 'Modeling With Systems Of Inequalities',\n",
       "  'description': 'Sal models a real-world context into an algebraic system of linear inequalities and graphs it.',\n",
       "  'texts': ['text1.md'],\n",
       "  'video_parts': [{'id': 'BUmLw5m6F9s'}],\n",
       "  'node_type': 'lecture',\n",
       "  'parent_id': 'khan-algebra-1',\n",
       "  'thumbnail': ''},\n",
       " {'name': 'Writing Systems Of Inequalities Word Problem',\n",
       "  'description': 'Sal models a word problem about baking cupcakes and muffins by creating a system of linear inequalities.',\n",
       "  'texts': ['text1.md'],\n",
       "  'video_parts': [{'id': 'jRnkxSfwIpU'}],\n",
       "  'node_type': 'lecture',\n",
       "  'parent_id': 'khan-algebra-1',\n",
       "  'thumbnail': ''},\n",
       " {'name': 'Solving Systems Of Inequalities Word Problem',\n",
       "  'description': 'Given a system of linear inequalities that models a context about making chairs and tables, Sal finds how many can be made.',\n",
       "  'texts': ['text1.md'],\n",
       "  'video_parts': [{'id': 'ZTKAn9YNbNY'}],\n",
       "  'node_type': 'lecture',\n",
       "  'parent_id': 'khan-algebra-1',\n",
       "  'thumbnail': ''},\n",
       " {'name': 'Graphs Of Systems Of Inequalities Word Problem',\n",
       "  'description': \"Given the graph of a two-variable linear inequality that models a context about chopping vegetables, Sal finds if there's enough time to chop!\",\n",
       "  'texts': ['text1.md'],\n",
       "  'video_parts': [{'id': 'C_7Tqk9fw4k'}],\n",
       "  'node_type': 'lecture',\n",
       "  'parent_id': 'khan-algebra-1',\n",
       "  'thumbnail': ''},\n",
       " {'name': 'Graphs Of Two-Variable Inequalities Word Problem',\n",
       "  'description': 'Given the graph of a two-variable linear inequality that models a context about dog biscuits, Sal finds if the dog can get enough biscuits.',\n",
       "  'texts': ['text1.md'],\n",
       "  'video_parts': [{'id': 'DhiiGFuUE9I'}],\n",
       "  'node_type': 'lecture',\n",
       "  'parent_id': 'khan-algebra-1',\n",
       "  'thumbnail': ''},\n",
       " {'name': 'Creativity Break: What Can We Do To Expand Our Creative Skills?',\n",
       "  'description': 'Experts share their advice on how to expand our creative skills.',\n",
       "  'texts': ['text1.md'],\n",
       "  'video_parts': [{'id': 'SFUG5KpIf_Q'}],\n",
       "  'node_type': 'lecture',\n",
       "  'parent_id': 'khan-algebra-1',\n",
       "  'thumbnail': ''}]"
      ]
     },
     "execution_count": 86,
     "metadata": {},
     "output_type": "execute_result"
    }
   ],
   "source": [
    "\n",
    "topics = []\n",
    "for url in parser.urls:\n",
    "    video_url = site + url\n",
    "    video_html = get_html_from_url(video_url)\n",
    "    topic = get_topic(video_html)\n",
    "    print(json.dumps(topic, indent=4))\n",
    "    topics.append(topic)\n",
    "    \n",
    "\n",
    "topics\n",
    "    \n",
    "    \n",
    "    \n",
    "    "
   ]
  }
 ],
 "metadata": {
  "kernelspec": {
   "display_name": "Python 3 (ipykernel)",
   "language": "python",
   "name": "python3"
  },
  "language_info": {
   "codemirror_mode": {
    "name": "ipython",
    "version": 3
   },
   "file_extension": ".py",
   "mimetype": "text/x-python",
   "name": "python",
   "nbconvert_exporter": "python",
   "pygments_lexer": "ipython3",
   "version": "3.11.5"
  }
 },
 "nbformat": 4,
 "nbformat_minor": 5
}
