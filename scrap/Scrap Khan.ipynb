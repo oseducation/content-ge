{
 "cells": [
  {
   "cell_type": "code",
   "execution_count": 7,
   "id": "1edbe2fd",
   "metadata": {},
   "outputs": [],
   "source": [
    "import subprocess\n",
    "def get_html_from_url(url):\n",
    "    cmds = [\"/Applications/Google\\ Chrome.app/Contents/MacOS/Google\\ Chrome\", \"--headless\", \"--dump-dom\"]\n",
    "    cmds = [\"/Applications/Google Chrome.app/Contents/MacOS/Google Chrome\", \"--headless\", \"--dump-dom\"]\n",
    "    cmds.append(url)\n",
    "    result = subprocess.run(cmds, stdout=subprocess.PIPE)\n",
    "    text = result.stdout.decode('utf-8')\n",
    "    return text\n",
    "    \n",
    "# t = get_html_from_url(\"https://www.khanacademy.org/math/algebra/x2f8bb11595b61c86:systems-of-equations/x2f8bb11595b61c86:introduction-to-systems-of-equations/v/trolls-tolls-and-systems-of-equation\")\n",
    "# t\n",
    "# # result = subprocess.run(['pwd'], stdout=subprocess.PIPE)\n",
    "# # text = result.stdout.decode('utf-8')\n",
    "# # text\n"
   ]
  },
  {
   "cell_type": "code",
   "execution_count": 24,
   "id": "69ef4570",
   "metadata": {},
   "outputs": [],
   "source": [
    "unit_url = \"https://www.khanacademy.org/math/algebra/x2f8bb11595b61c86:systems-of-equations/x2f8bb11595b61c86:introduction-to-systems-of-equations\"\n",
    "site = \"https://www.khanacademy.org\""
   ]
  },
  {
   "cell_type": "code",
   "execution_count": 33,
   "id": "f2bdb9dc",
   "metadata": {},
   "outputs": [
    {
     "name": "stderr",
     "output_type": "stream",
     "text": [
      "[0521/115624.477718:WARNING:runtime_features.cc(730)] AttributionReportingCrossAppWeb cannot be enabled in this configuration. Use --enable-features=ConversionMeasurement,AttributionReportingCrossAppWeb in addition.\n",
      "[0521/115624.512299:WARNING:runtime_features.cc(730)] AttributionReportingCrossAppWeb cannot be enabled in this configuration. Use --enable-features=ConversionMeasurement,AttributionReportingCrossAppWeb in addition.\n"
     ]
    }
   ],
   "source": [
    "from xml.dom.minidom import parseString\n",
    "\n",
    "html = get_html_from_url(unit_url)\n",
    "\n"
   ]
  },
  {
   "cell_type": "code",
   "execution_count": 73,
   "id": "03f08d65",
   "metadata": {},
   "outputs": [
    {
     "data": {
      "text/plain": [
       "['/math/algebra/x2f8bb11595b61c86:systems-of-equations/x2f8bb11595b61c86:introduction-to-systems-of-equations/v/trolls-tolls-and-systems-of-equations',\n",
       " '/math/algebra/x2f8bb11595b61c86:systems-of-equations/x2f8bb11595b61c86:introduction-to-systems-of-equations/v/solving-the-troll-riddle-visually',\n",
       " '/math/algebra/x2f8bb11595b61c86:systems-of-equations/x2f8bb11595b61c86:introduction-to-systems-of-equations/v/testing-a-solution-for-a-system-of-equations',\n",
       " '/math/algebra/x2f8bb11595b61c86:systems-of-equations/x2f8bb11595b61c86:introduction-to-systems-of-equations/v/solving-systems-graphically',\n",
       " '/math/algebra/x2f8bb11595b61c86:systems-of-equations/x2f8bb11595b61c86:introduction-to-systems-of-equations/v/solving-systems-graphically-examples',\n",
       " '/math/algebra/x2f8bb11595b61c86:systems-of-equations/x2f8bb11595b61c86:introduction-to-systems-of-equations/v/setting-up-system',\n",
       " '/math/algebra/x2f8bb11595b61c86:systems-of-equations/x2f8bb11595b61c86:introduction-to-systems-of-equations/v/setting-up-systems-weight-price',\n",
       " '/math/algebra/x2f8bb11595b61c86:systems-of-equations/x2f8bb11595b61c86:introduction-to-systems-of-equations/v/interpret-points-systems',\n",
       " '/math/algebra/x2f8bb11595b61c86:systems-of-equations/x2f8bb11595b61c86:solving-systems-of-equations-with-substitution/v/solving-systems-with-substitution',\n",
       " '/math/algebra/x2f8bb11595b61c86:systems-of-equations/x2f8bb11595b61c86:solving-systems-of-equations-with-substitution/v/practice-using-substitution-for-systems',\n",
       " '/math/algebra/x2f8bb11595b61c86:systems-of-equations/x2f8bb11595b61c86:solving-systems-elimination/v/king-s-cupcakes-solving-systems-by-elimination',\n",
       " '/math/algebra/x2f8bb11595b61c86:systems-of-equations/x2f8bb11595b61c86:solving-systems-elimination/v/elimination-strategies',\n",
       " '/math/algebra/x2f8bb11595b61c86:systems-of-equations/x2f8bb11595b61c86:solving-systems-elimination/v/simple-elimination-practice',\n",
       " '/math/algebra/x2f8bb11595b61c86:systems-of-equations/x2f8bb11595b61c86:solving-systems-elimination/v/how-many-bags-of-potato-chips-do-people-eat',\n",
       " '/math/algebra/x2f8bb11595b61c86:systems-of-equations/x2f8bb11595b61c86:solving-systems-elimination/v/solving-systems-of-equations-by-multiplication',\n",
       " '/math/algebra/x2f8bb11595b61c86:systems-of-equations/x2f8bb11595b61c86:equivalent-systems-equations/v/why-we-do-the-same-thing-to-both-sides-basic-systems',\n",
       " '/math/algebra/x2f8bb11595b61c86:systems-of-equations/x2f8bb11595b61c86:equivalent-systems-equations/v/identifying-equivalent-systems-of-equations',\n",
       " '/math/algebra/x2f8bb11595b61c86:systems-of-equations/x2f8bb11595b61c86:equivalent-systems-equations/v/identifying-non-equivalent-systems-of-equations',\n",
       " '/math/algebra/x2f8bb11595b61c86:systems-of-equations/x2f8bb11595b61c86:equivalent-systems-equations/v/reasoning-system-equations',\n",
       " '/math/algebra/x2f8bb11595b61c86:systems-of-equations/x2f8bb11595b61c86:number-of-solutions-to-systems-of-equations/v/inconsistent-systems-of-equations',\n",
       " '/math/algebra/x2f8bb11595b61c86:systems-of-equations/x2f8bb11595b61c86:number-of-solutions-to-systems-of-equations/v/infinite-solutions-to-systems',\n",
       " '/math/algebra/x2f8bb11595b61c86:systems-of-equations/x2f8bb11595b61c86:number-of-solutions-to-systems-of-equations/v/consistent-and-inconsistent-systems',\n",
       " '/math/algebra/x2f8bb11595b61c86:systems-of-equations/x2f8bb11595b61c86:number-of-solutions-to-systems-of-equations/v/independent-and-dependent-systems',\n",
       " '/math/algebra/x2f8bb11595b61c86:systems-of-equations/x2f8bb11595b61c86:number-of-solutions-to-systems-of-equations/v/solving-systems-by-graphing-2',\n",
       " '/math/algebra/x2f8bb11595b61c86:systems-of-equations/x2f8bb11595b61c86:number-of-solutions-to-systems-of-equations/v/practice-thinking-about-number-of-solutions-to-systems',\n",
       " '/math/algebra/x2f8bb11595b61c86:systems-of-equations/x2f8bb11595b61c86:number-of-solutions-to-systems-of-equations/v/examples-algebraically-analyzing-solutions-to-systems',\n",
       " '/math/algebra/x2f8bb11595b61c86:systems-of-equations/x2f8bb11595b61c86:number-of-solutions-to-systems-of-equations/v/understanding-systems-of-equations-example-2',\n",
       " '/math/algebra/x2f8bb11595b61c86:systems-of-equations/x2f8bb11595b61c86:systems-of-equations-word-problems/v/ex-2-age-word-problem',\n",
       " '/math/algebra/x2f8bb11595b61c86:systems-of-equations/x2f8bb11595b61c86:systems-of-equations-word-problems/v/ex-3-age-word-problem',\n",
       " '/math/algebra/x2f8bb11595b61c86:systems-of-equations/x2f8bb11595b61c86:systems-of-equations-word-problems/v/ex-1-age-word-problem',\n",
       " '/math/algebra/x2f8bb11595b61c86:systems-of-equations/x2f8bb11595b61c86:systems-of-equations-word-problems/v/system-of-equations-distances-word-problem',\n",
       " '/math/algebra/x2f8bb11595b61c86:systems-of-equations/x2f8bb11595b61c86:systems-of-equations-word-problems/v/systems-word-problem-with-no-solution',\n",
       " '/math/algebra/x2f8bb11595b61c86:systems-of-equations/x2f8bb11595b61c86:systems-of-equations-word-problems/v/system-with-not-enough-information',\n",
       " '/math/algebra/x2f8bb11595b61c86:systems-of-equations/x2f8bb11595b61c86:systems-of-equations-word-problems/v/solving-systems-by-elimination',\n",
       " '/math/algebra/x2f8bb11595b61c86:systems-of-equations/x2f8bb11595b61c86:systems-of-equations-word-problems/v/using-a-system-of-equations-to-find-the-price-of-apples-and-oranges',\n",
       " '/math/algebra/x2f8bb11595b61c86:systems-of-equations/x2f8bb11595b61c86:systems-of-equations-word-problems/v/substitution-method-3',\n",
       " '/math/algebra/x2f8bb11595b61c86:systems-of-equations/x2f8bb11595b61c86:systems-of-equations-word-problems/v/understanding-systems-of-equations-example']"
      ]
     },
     "execution_count": 73,
     "metadata": {},
     "output_type": "execute_result"
    }
   ],
   "source": [
    "from html.parser import HTMLParser\n",
    "class Parser(HTMLParser):\n",
    "    def __init__(self):\n",
    "        HTMLParser.__init__(self)\n",
    "        self.href = ''\n",
    "        self.urls = []\n",
    "\n",
    "    def handle_starttag(self, tag, attrs):\n",
    "        if (tag == 'a'):\n",
    "            for (k,v) in attrs:\n",
    "                if (k == 'href'):\n",
    "                    self.href = v\n",
    "        elif (tag == 'span'):\n",
    "            for (k,v) in attrs:\n",
    "                if (k == 'aria-label' and v == 'Video'):\n",
    "                    self.urls.append(self.href)            \n",
    "\n",
    "\n",
    "\n",
    "parser = Parser()\n",
    "parser.feed(html)\n",
    "parser.urls\n"
   ]
  },
  {
   "cell_type": "code",
   "execution_count": 32,
   "id": "73062d17",
   "metadata": {},
   "outputs": [
    {
     "name": "stderr",
     "output_type": "stream",
     "text": [
      "[0521/115618.386214:WARNING:runtime_features.cc(730)] AttributionReportingCrossAppWeb cannot be enabled in this configuration. Use --enable-features=ConversionMeasurement,AttributionReportingCrossAppWeb in addition.\n",
      "[0521/115618.527860:WARNING:runtime_features.cc(730)] AttributionReportingCrossAppWeb cannot be enabled in this configuration. Use --enable-features=ConversionMeasurement,AttributionReportingCrossAppWeb in addition.\n"
     ]
    }
   ],
   "source": [
    "video_url = site + parser.urls[0]\n",
    "video_html = get_html_from_url(video_url)\n",
    "\n",
    "\n"
   ]
  },
  {
   "cell_type": "code",
   "execution_count": 49,
   "id": "8b5d8c41",
   "metadata": {},
   "outputs": [
    {
     "name": "stdout",
     "output_type": "stream",
     "text": [
      "[('src', 'https://www.googletagmanager.com/ns.html?id=GTM-WSX5PBP'), ('height', '0'), ('width', '0'), ('style', 'display:none;visibility:hidden')]\n",
      "Systems Of Equations: Trolls, Tolls (1 Of 2) A troll forces us to use algebra to figure out the make-up of his currency. We end up setting up a system of equations. Created by Sal Khan.\n"
     ]
    }
   ],
   "source": [
    "class VideoParser(HTMLParser):\n",
    "    def __init__(self):\n",
    "        HTMLParser.__init__(self)\n",
    "        self.start_h1 = False\n",
    "        self.start_div = False\n",
    "        self.start_iframe = False\n",
    "        \n",
    "        self.name = ''\n",
    "        self.desc = ''\n",
    "\n",
    "    def handle_starttag(self, tag, attrs):\n",
    "        if (tag == 'h1'):\n",
    "            self.start_h1 = True       \n",
    "        elif (tag == 'div'):\n",
    "            for (k,v) in attrs:\n",
    "                if (k == 'id' and v == 'ka-videoPageTabs-tabbedpanel-content'):\n",
    "                    self.start_div = True\n",
    "        elif (tag == 'iframe'):\n",
    "            print(attrs)\n",
    "            for (k,v) in attrs:\n",
    "                if(k == 'data-youtubeid'):\n",
    "                    print(v)\n",
    "\n",
    "    def handle_endtag(self, tag):\n",
    "        if (tag == 'h1'):\n",
    "            self.start_h1 = False\n",
    "        elif (tag == 'div'):\n",
    "            self.start_div = False\n",
    "            \n",
    "    def handle_data(self, data):\n",
    "        if self.start_h1:\n",
    "            self.name = data.title()\n",
    "        if self.start_div:\n",
    "            self.desc += data\n",
    "\n",
    "parser = VideoParser()\n",
    "parser.feed(video_html)\n",
    "print(parser.name, parser.desc)\n",
    "\n",
    "\n"
   ]
  },
  {
   "cell_type": "code",
   "execution_count": 78,
   "id": "7a3e0bf0",
   "metadata": {},
   "outputs": [],
   "source": [
    "def get_searched_value(video_html, searchStr):\n",
    "    x = video_html.find(searchStr)\n",
    "    start = video_html.find('\"', x+len(searchStr))\n",
    "    end = video_html.find('\"', start+1)\n",
    "    return video_html[start+1:end]\n",
    "\n",
    "\n",
    "def get_topic(video_html):\n",
    "    desc =  get_searched_value(video_html, '\"translatedDescription\":')\n",
    "    name = get_searched_value(video_html, '\"translatedTitle\":').title()\n",
    "    videoID = get_searched_value(video_html, '\"translatedYoutubeId\":')\n",
    "    return {\n",
    "        \"name\": name,\n",
    "        \"description\": desc,\n",
    "        \"texts\": [\"text1.md\"],\n",
    "        \"video_parts\": [{\n",
    "            \"id\": videoID\n",
    "        }],\n",
    "        \"node_type\": \"lecture\",\n",
    "        \"parent_id\": \"khan-algebra-1\",\n",
    "        \"thumbnail\": \"\"\n",
    "    }"
   ]
  },
  {
   "cell_type": "code",
   "execution_count": null,
   "id": "e333afec",
   "metadata": {},
   "outputs": [
    {
     "name": "stderr",
     "output_type": "stream",
     "text": [
      "[0521/135304.502688:WARNING:runtime_features.cc(730)] AttributionReportingCrossAppWeb cannot be enabled in this configuration. Use --enable-features=ConversionMeasurement,AttributionReportingCrossAppWeb in addition.\n",
      "[0521/135304.541229:WARNING:runtime_features.cc(730)] AttributionReportingCrossAppWeb cannot be enabled in this configuration. Use --enable-features=ConversionMeasurement,AttributionReportingCrossAppWeb in addition.\n",
      "[0521/135312.453225:ERROR:shared_image_manager.cc(325)] SharedImageManager::ProduceMemory: Trying to Produce a Memory representation from a non-existent mailbox.\n",
      "[0521/135312.454942:ERROR:shared_image_manager.cc(325)] SharedImageManager::ProduceMemory: Trying to Produce a Memory representation from a non-existent mailbox.\n",
      "[0521/135312.455581:ERROR:shared_image_manager.cc(325)] SharedImageManager::ProduceMemory: Trying to Produce a Memory representation from a non-existent mailbox.\n",
      "[0521/135312.456864:ERROR:shared_image_manager.cc(325)] SharedImageManager::ProduceMemory: Trying to Produce a Memory representation from a non-existent mailbox.\n",
      "[0521/135312.456931:ERROR:shared_image_manager.cc(325)] SharedImageManager::ProduceMemory: Trying to Produce a Memory representation from a non-existent mailbox.\n",
      "[0521/135312.456966:ERROR:shared_image_manager.cc(325)] SharedImageManager::ProduceMemory: Trying to Produce a Memory representation from a non-existent mailbox.\n",
      "[0521/135312.456982:ERROR:shared_image_manager.cc(325)] SharedImageManager::ProduceMemory: Trying to Produce a Memory representation from a non-existent mailbox.\n",
      "[0521/135312.616107:WARNING:runtime_features.cc(730)] AttributionReportingCrossAppWeb cannot be enabled in this configuration. Use --enable-features=ConversionMeasurement,AttributionReportingCrossAppWeb in addition.\n",
      "[0521/135312.652337:WARNING:runtime_features.cc(730)] AttributionReportingCrossAppWeb cannot be enabled in this configuration. Use --enable-features=ConversionMeasurement,AttributionReportingCrossAppWeb in addition.\n"
     ]
    },
    {
     "name": "stdout",
     "output_type": "stream",
     "text": [
      "{\n",
      "    \"name\": \"Systems Of Equations With Substitution: -3X-4Y=-2 & Y=2X-5\",\n",
      "    \"description\": \"Learn to solve the system of equations -3x - 4y = -2 and y = 2x - 5 using substitution.\",\n",
      "    \"texts\": [\n",
      "        \"text1.md\"\n",
      "    ],\n",
      "    \"video_parts\": [\n",
      "        {\n",
      "            \"id\": \"GWZKz4F9hWM\"\n",
      "        }\n",
      "    ],\n",
      "    \"node_type\": \"lecture\",\n",
      "    \"parent_id\": \"khan-algebra-1\",\n",
      "    \"thumbnail\": \"\"\n",
      "}\n",
      "{\n",
      "    \"name\": \"Systems Of Equations With Elimination: King'S Cupcakes\",\n",
      "    \"description\": \"Sal uses simple elimination to figure out how many cupcakes are eaten by children and adults.\",\n",
      "    \"texts\": [\n",
      "        \"text1.md\"\n",
      "    ],\n",
      "    \"video_parts\": [\n",
      "        {\n",
      "            \"id\": \"xCIHAjsZCE0\"\n",
      "        }\n",
      "    ],\n",
      "    \"node_type\": \"lecture\",\n",
      "    \"parent_id\": \"khan-algebra-1\",\n",
      "    \"thumbnail\": \"\"\n",
      "}\n"
     ]
    },
    {
     "name": "stderr",
     "output_type": "stream",
     "text": [
      "[0521/135327.662328:WARNING:runtime_features.cc(730)] AttributionReportingCrossAppWeb cannot be enabled in this configuration. Use --enable-features=ConversionMeasurement,AttributionReportingCrossAppWeb in addition.\n",
      "[0521/135327.700845:WARNING:runtime_features.cc(730)] AttributionReportingCrossAppWeb cannot be enabled in this configuration. Use --enable-features=ConversionMeasurement,AttributionReportingCrossAppWeb in addition.\n"
     ]
    },
    {
     "name": "stdout",
     "output_type": "stream",
     "text": [
      "{\n",
      "    \"name\": \"Elimination Strategies\",\n",
      "    \"description\": \"Practice identifying strategies for eliminating variables in a system of equations.\",\n",
      "    \"texts\": [\n",
      "        \"text1.md\"\n",
      "    ],\n",
      "    \"video_parts\": [\n",
      "        {\n",
      "            \"id\": \"5jgSW5Jb-Y8\"\n",
      "        }\n",
      "    ],\n",
      "    \"node_type\": \"lecture\",\n",
      "    \"parent_id\": \"khan-algebra-1\",\n",
      "    \"thumbnail\": \"\"\n",
      "}\n"
     ]
    },
    {
     "name": "stderr",
     "output_type": "stream",
     "text": [
      "[0521/135349.335497:WARNING:runtime_features.cc(730)] AttributionReportingCrossAppWeb cannot be enabled in this configuration. Use --enable-features=ConversionMeasurement,AttributionReportingCrossAppWeb in addition.\n",
      "[0521/135349.371174:WARNING:runtime_features.cc(730)] AttributionReportingCrossAppWeb cannot be enabled in this configuration. Use --enable-features=ConversionMeasurement,AttributionReportingCrossAppWeb in addition.\n"
     ]
    },
    {
     "name": "stdout",
     "output_type": "stream",
     "text": [
      "{\n",
      "    \"name\": \"Systems Of Equations With Elimination: X-4Y=-18 & -X+3Y=11\",\n",
      "    \"description\": \"Sal solves the following system of equations by eliminating x: x-4y=-18 and -x+3y=11.\",\n",
      "    \"texts\": [\n",
      "        \"text1.md\"\n",
      "    ],\n",
      "    \"video_parts\": [\n",
      "        {\n",
      "            \"id\": \"NPXTkj75-AM\"\n",
      "        }\n",
      "    ],\n",
      "    \"node_type\": \"lecture\",\n",
      "    \"parent_id\": \"khan-algebra-1\",\n",
      "    \"thumbnail\": \"\"\n",
      "}\n"
     ]
    },
    {
     "name": "stderr",
     "output_type": "stream",
     "text": [
      "[0521/135402.888516:WARNING:runtime_features.cc(730)] AttributionReportingCrossAppWeb cannot be enabled in this configuration. Use --enable-features=ConversionMeasurement,AttributionReportingCrossAppWeb in addition.\n",
      "[0521/135402.924243:WARNING:runtime_features.cc(730)] AttributionReportingCrossAppWeb cannot be enabled in this configuration. Use --enable-features=ConversionMeasurement,AttributionReportingCrossAppWeb in addition.\n"
     ]
    },
    {
     "name": "stdout",
     "output_type": "stream",
     "text": [
      "{\n",
      "    \"name\": \"Systems Of Equations With Elimination: Potato Chips\",\n",
      "    \"description\": \"Sal solves another system of equations using elimination.\",\n",
      "    \"texts\": [\n",
      "        \"text1.md\"\n",
      "    ],\n",
      "    \"video_parts\": [\n",
      "        {\n",
      "            \"id\": \"VuJEidLhY1E\"\n",
      "        }\n",
      "    ],\n",
      "    \"node_type\": \"lecture\",\n",
      "    \"parent_id\": \"khan-algebra-1\",\n",
      "    \"thumbnail\": \"\"\n",
      "}\n"
     ]
    },
    {
     "name": "stderr",
     "output_type": "stream",
     "text": [
      "[0521/135422.316543:WARNING:runtime_features.cc(730)] AttributionReportingCrossAppWeb cannot be enabled in this configuration. Use --enable-features=ConversionMeasurement,AttributionReportingCrossAppWeb in addition.\n",
      "[0521/135422.351697:WARNING:runtime_features.cc(730)] AttributionReportingCrossAppWeb cannot be enabled in this configuration. Use --enable-features=ConversionMeasurement,AttributionReportingCrossAppWeb in addition.\n"
     ]
    },
    {
     "name": "stdout",
     "output_type": "stream",
     "text": [
      "{\n",
      "    \"name\": \"Systems Of Equations With Elimination (And Manipulation)\",\n",
      "    \"description\": \"In some cases, we need to slightly manipulate a system of equations before we can solve it using the elimination method. See how it's done in this video.\",\n",
      "    \"texts\": [\n",
      "        \"text1.md\"\n",
      "    ],\n",
      "    \"video_parts\": [\n",
      "        {\n",
      "            \"id\": \"wYrxKGt_bLg\"\n",
      "        }\n",
      "    ],\n",
      "    \"node_type\": \"lecture\",\n",
      "    \"parent_id\": \"khan-algebra-1\",\n",
      "    \"thumbnail\": \"\"\n",
      "}\n"
     ]
    },
    {
     "name": "stderr",
     "output_type": "stream",
     "text": [
      "[0521/135436.404787:WARNING:runtime_features.cc(730)] AttributionReportingCrossAppWeb cannot be enabled in this configuration. Use --enable-features=ConversionMeasurement,AttributionReportingCrossAppWeb in addition.\n",
      "[0521/135436.441355:WARNING:runtime_features.cc(730)] AttributionReportingCrossAppWeb cannot be enabled in this configuration. Use --enable-features=ConversionMeasurement,AttributionReportingCrossAppWeb in addition.\n"
     ]
    },
    {
     "name": "stdout",
     "output_type": "stream",
     "text": [
      "{\n",
      "    \"name\": \"Why Can We Subtract One Equation From The Other In A System Of Equations?\",\n",
      "    \"description\": \"The example of a scale where we try to achieve balance helps to explain why we can subtract one equation from the other in a system of equations.\",\n",
      "    \"texts\": [\n",
      "        \"text1.md\"\n",
      "    ],\n",
      "    \"video_parts\": [\n",
      "        {\n",
      "            \"id\": \"h9ZgZimXn2Q\"\n",
      "        }\n",
      "    ],\n",
      "    \"node_type\": \"lecture\",\n",
      "    \"parent_id\": \"khan-algebra-1\",\n",
      "    \"thumbnail\": \"\"\n",
      "}\n"
     ]
    },
    {
     "name": "stderr",
     "output_type": "stream",
     "text": [
      "[0521/135456.223005:WARNING:runtime_features.cc(730)] AttributionReportingCrossAppWeb cannot be enabled in this configuration. Use --enable-features=ConversionMeasurement,AttributionReportingCrossAppWeb in addition.\n",
      "[0521/135456.260101:WARNING:runtime_features.cc(730)] AttributionReportingCrossAppWeb cannot be enabled in this configuration. Use --enable-features=ConversionMeasurement,AttributionReportingCrossAppWeb in addition.\n"
     ]
    },
    {
     "name": "stdout",
     "output_type": "stream",
     "text": [
      "{\n",
      "    \"name\": \"Worked Example: Equivalent Systems Of Equations\",\n",
      "    \"description\": \"Sal analyzes a couple of systems of equations and determines whether they have the same solution as a third given system.\",\n",
      "    \"texts\": [\n",
      "        \"text1.md\"\n",
      "    ],\n",
      "    \"video_parts\": [\n",
      "        {\n",
      "            \"id\": \"XstL_x4ucm4\"\n",
      "        }\n",
      "    ],\n",
      "    \"node_type\": \"lecture\",\n",
      "    \"parent_id\": \"khan-algebra-1\",\n",
      "    \"thumbnail\": \"\"\n",
      "}\n"
     ]
    },
    {
     "name": "stderr",
     "output_type": "stream",
     "text": [
      "[0521/135551.227549:WARNING:runtime_features.cc(730)] AttributionReportingCrossAppWeb cannot be enabled in this configuration. Use --enable-features=ConversionMeasurement,AttributionReportingCrossAppWeb in addition.\n",
      "[0521/135551.263938:WARNING:runtime_features.cc(730)] AttributionReportingCrossAppWeb cannot be enabled in this configuration. Use --enable-features=ConversionMeasurement,AttributionReportingCrossAppWeb in addition.\n"
     ]
    },
    {
     "name": "stdout",
     "output_type": "stream",
     "text": [
      "{\n",
      "    \"name\": \"Stylesheet\",\n",
      "    \"description\": \"stylesheet\",\n",
      "    \"texts\": [\n",
      "        \"text1.md\"\n",
      "    ],\n",
      "    \"video_parts\": [\n",
      "        {\n",
      "            \"id\": \"stylesheet\"\n",
      "        }\n",
      "    ],\n",
      "    \"node_type\": \"lecture\",\n",
      "    \"parent_id\": \"khan-algebra-1\",\n",
      "    \"thumbnail\": \"\"\n",
      "}\n"
     ]
    },
    {
     "name": "stderr",
     "output_type": "stream",
     "text": [
      "[0521/135613.545635:WARNING:runtime_features.cc(730)] AttributionReportingCrossAppWeb cannot be enabled in this configuration. Use --enable-features=ConversionMeasurement,AttributionReportingCrossAppWeb in addition.\n",
      "[0521/135613.584093:WARNING:runtime_features.cc(730)] AttributionReportingCrossAppWeb cannot be enabled in this configuration. Use --enable-features=ConversionMeasurement,AttributionReportingCrossAppWeb in addition.\n"
     ]
    },
    {
     "name": "stdout",
     "output_type": "stream",
     "text": [
      "{\n",
      "    \"name\": \"Reasoning With Systems Of Equations\",\n",
      "    \"description\": \"When we perform operations on a system of equations, some operations produce an equivalent system, while others don't necessarily produce an equivalent system. When we're solving a system of equations, we need to use operations that guarantee equivalence.\",\n",
      "    \"texts\": [\n",
      "        \"text1.md\"\n",
      "    ],\n",
      "    \"video_parts\": [\n",
      "        {\n",
      "            \"id\": \"s1RB-IgAHr8\"\n",
      "        }\n",
      "    ],\n",
      "    \"node_type\": \"lecture\",\n",
      "    \"parent_id\": \"khan-algebra-1\",\n",
      "    \"thumbnail\": \"\"\n",
      "}\n"
     ]
    },
    {
     "name": "stderr",
     "output_type": "stream",
     "text": [
      "[0521/135629.322578:WARNING:runtime_features.cc(730)] AttributionReportingCrossAppWeb cannot be enabled in this configuration. Use --enable-features=ConversionMeasurement,AttributionReportingCrossAppWeb in addition.\n",
      "[0521/135629.358184:WARNING:runtime_features.cc(730)] AttributionReportingCrossAppWeb cannot be enabled in this configuration. Use --enable-features=ConversionMeasurement,AttributionReportingCrossAppWeb in addition.\n"
     ]
    },
    {
     "name": "stdout",
     "output_type": "stream",
     "text": [
      "{\n",
      "    \"name\": \"Systems Of Equations Number Of Solutions: Fruit Prices (1 Of 2)\",\n",
      "    \"description\": \"Sal gives an example of a system of equations that has no solution!\",\n",
      "    \"texts\": [\n",
      "        \"text1.md\"\n",
      "    ],\n",
      "    \"video_parts\": [\n",
      "        {\n",
      "            \"id\": \"NJRyxmommqQ\"\n",
      "        }\n",
      "    ],\n",
      "    \"node_type\": \"lecture\",\n",
      "    \"parent_id\": \"khan-algebra-1\",\n",
      "    \"thumbnail\": \"\"\n",
      "}\n"
     ]
    },
    {
     "name": "stderr",
     "output_type": "stream",
     "text": [
      "[0521/135649.614836:WARNING:runtime_features.cc(730)] AttributionReportingCrossAppWeb cannot be enabled in this configuration. Use --enable-features=ConversionMeasurement,AttributionReportingCrossAppWeb in addition.\n",
      "[0521/135649.652096:WARNING:runtime_features.cc(730)] AttributionReportingCrossAppWeb cannot be enabled in this configuration. Use --enable-features=ConversionMeasurement,AttributionReportingCrossAppWeb in addition.\n"
     ]
    },
    {
     "name": "stdout",
     "output_type": "stream",
     "text": [
      "{\n",
      "    \"name\": \"Systems Of Equations Number Of Solutions: Fruit Prices (2 Of 2)\",\n",
      "    \"description\": \"Sal gives an example of a system of equations that has infinite solutions!\",\n",
      "    \"texts\": [\n",
      "        \"text1.md\"\n",
      "    ],\n",
      "    \"video_parts\": [\n",
      "        {\n",
      "            \"id\": \"MpRUEGD2-_c\"\n",
      "        }\n",
      "    ],\n",
      "    \"node_type\": \"lecture\",\n",
      "    \"parent_id\": \"khan-algebra-1\",\n",
      "    \"thumbnail\": \"\"\n",
      "}\n"
     ]
    },
    {
     "name": "stderr",
     "output_type": "stream",
     "text": [
      "[0521/135700.241685:WARNING:runtime_features.cc(730)] AttributionReportingCrossAppWeb cannot be enabled in this configuration. Use --enable-features=ConversionMeasurement,AttributionReportingCrossAppWeb in addition.\n",
      "[0521/135700.279187:WARNING:runtime_features.cc(730)] AttributionReportingCrossAppWeb cannot be enabled in this configuration. Use --enable-features=ConversionMeasurement,AttributionReportingCrossAppWeb in addition.\n"
     ]
    },
    {
     "name": "stdout",
     "output_type": "stream",
     "text": [
      "{\n",
      "    \"name\": \"Solutions To Systems Of Equations: Consistent Vs. Inconsistent\",\n",
      "    \"description\": \"A consistent system of equations has at least one solution, and an inconsistent system has no solution. Watch an example of analyzing a system to see if it's consistent or inconsistent.\",\n",
      "    \"texts\": [\n",
      "        \"text1.md\"\n",
      "    ],\n",
      "    \"video_parts\": [\n",
      "        {\n",
      "            \"id\": \"Ix8Nne-a-KQ\"\n",
      "        }\n",
      "    ],\n",
      "    \"node_type\": \"lecture\",\n",
      "    \"parent_id\": \"khan-algebra-1\",\n",
      "    \"thumbnail\": \"\"\n",
      "}\n"
     ]
    },
    {
     "name": "stderr",
     "output_type": "stream",
     "text": [
      "[0521/135739.773869:WARNING:runtime_features.cc(730)] AttributionReportingCrossAppWeb cannot be enabled in this configuration. Use --enable-features=ConversionMeasurement,AttributionReportingCrossAppWeb in addition.\n",
      "[0521/135739.808325:WARNING:runtime_features.cc(730)] AttributionReportingCrossAppWeb cannot be enabled in this configuration. Use --enable-features=ConversionMeasurement,AttributionReportingCrossAppWeb in addition.\n"
     ]
    },
    {
     "name": "stdout",
     "output_type": "stream",
     "text": [
      "{\n",
      "    \"name\": \"Solutions To Systems Of Equations: Dependent Vs. Independent\",\n",
      "    \"description\": \"A\\u00a0dependent system of equations has infinite solutions, and an\\u00a0independent system has a single solution. Watch an example of analyzing a system to see if it's dependent or independent.\",\n",
      "    \"texts\": [\n",
      "        \"text1.md\"\n",
      "    ],\n",
      "    \"video_parts\": [\n",
      "        {\n",
      "            \"id\": \"WSpF5uvApLA\"\n",
      "        }\n",
      "    ],\n",
      "    \"node_type\": \"lecture\",\n",
      "    \"parent_id\": \"khan-algebra-1\",\n",
      "    \"thumbnail\": \"\"\n",
      "}\n"
     ]
    },
    {
     "name": "stderr",
     "output_type": "stream",
     "text": [
      "[0521/135752.091879:WARNING:runtime_features.cc(730)] AttributionReportingCrossAppWeb cannot be enabled in this configuration. Use --enable-features=ConversionMeasurement,AttributionReportingCrossAppWeb in addition.\n",
      "[0521/135752.126689:WARNING:runtime_features.cc(730)] AttributionReportingCrossAppWeb cannot be enabled in this configuration. Use --enable-features=ConversionMeasurement,AttributionReportingCrossAppWeb in addition.\n"
     ]
    },
    {
     "name": "stdout",
     "output_type": "stream",
     "text": [
      "{\n",
      "    \"name\": \"Number Of Solutions To A System Of Equations\",\n",
      "    \"description\": \"Sal is given three lines on the coordinate plane, and identifies one system of two lines that has a single solution, and one system that has no solution.\",\n",
      "    \"texts\": [\n",
      "        \"text1.md\"\n",
      "    ],\n",
      "    \"video_parts\": [\n",
      "        {\n",
      "            \"id\": \"BNHLzEv6Mjg\"\n",
      "        }\n",
      "    ],\n",
      "    \"node_type\": \"lecture\",\n",
      "    \"parent_id\": \"khan-algebra-1\",\n",
      "    \"thumbnail\": \"\"\n",
      "}\n"
     ]
    },
    {
     "name": "stderr",
     "output_type": "stream",
     "text": [
      "[0521/135838.560191:WARNING:runtime_features.cc(730)] AttributionReportingCrossAppWeb cannot be enabled in this configuration. Use --enable-features=ConversionMeasurement,AttributionReportingCrossAppWeb in addition.\n",
      "[0521/135838.594984:WARNING:runtime_features.cc(730)] AttributionReportingCrossAppWeb cannot be enabled in this configuration. Use --enable-features=ConversionMeasurement,AttributionReportingCrossAppWeb in addition.\n"
     ]
    },
    {
     "name": "stdout",
     "output_type": "stream",
     "text": [
      "{\n",
      "    \"name\": \"Number Of Solutions To A System Of Equations Graphically\",\n",
      "    \"description\": \"Sal determines how many solutions the following system of equations has by considering its graph: 10x-2y=4 and 10x-2y=16.\",\n",
      "    \"texts\": [\n",
      "        \"text1.md\"\n",
      "    ],\n",
      "    \"video_parts\": [\n",
      "        {\n",
      "            \"id\": \"SuB1gkto9LU\"\n",
      "        }\n",
      "    ],\n",
      "    \"node_type\": \"lecture\",\n",
      "    \"parent_id\": \"khan-algebra-1\",\n",
      "    \"thumbnail\": \"\"\n",
      "}\n"
     ]
    },
    {
     "name": "stderr",
     "output_type": "stream",
     "text": [
      "[0521/135852.556111:WARNING:runtime_features.cc(730)] AttributionReportingCrossAppWeb cannot be enabled in this configuration. Use --enable-features=ConversionMeasurement,AttributionReportingCrossAppWeb in addition.\n",
      "[0521/135852.591429:WARNING:runtime_features.cc(730)] AttributionReportingCrossAppWeb cannot be enabled in this configuration. Use --enable-features=ConversionMeasurement,AttributionReportingCrossAppWeb in addition.\n"
     ]
    },
    {
     "name": "stdout",
     "output_type": "stream",
     "text": [
      "{\n",
      "    \"name\": \"Number Of Solutions To A System Of Equations Algebraically\",\n",
      "    \"description\": \"Sal solves several examples where he reasons about the number of solutions of systems of equations using algebraic reasoning.\",\n",
      "    \"texts\": [\n",
      "        \"text1.md\"\n",
      "    ],\n",
      "    \"video_parts\": [\n",
      "        {\n",
      "            \"id\": \"ogEddosP1G8\"\n",
      "        }\n",
      "    ],\n",
      "    \"node_type\": \"lecture\",\n",
      "    \"parent_id\": \"khan-algebra-1\",\n",
      "    \"thumbnail\": \"\"\n",
      "}\n"
     ]
    },
    {
     "name": "stderr",
     "output_type": "stream",
     "text": [
      "[0521/135914.946807:WARNING:runtime_features.cc(730)] AttributionReportingCrossAppWeb cannot be enabled in this configuration. Use --enable-features=ConversionMeasurement,AttributionReportingCrossAppWeb in addition.\n",
      "[0521/135914.981102:WARNING:runtime_features.cc(730)] AttributionReportingCrossAppWeb cannot be enabled in this configuration. Use --enable-features=ConversionMeasurement,AttributionReportingCrossAppWeb in addition.\n"
     ]
    },
    {
     "name": "stdout",
     "output_type": "stream",
     "text": [
      "{\n",
      "    \"name\": \"How Many Solutions Does A System Of Linear Equations Have If There Are At Least Two?\",\n",
      "    \"description\": \"Sal answers this question for you!\",\n",
      "    \"texts\": [\n",
      "        \"text1.md\"\n",
      "    ],\n",
      "    \"video_parts\": [\n",
      "        {\n",
      "            \"id\": \"bzseeIVEslA\"\n",
      "        }\n",
      "    ],\n",
      "    \"node_type\": \"lecture\",\n",
      "    \"parent_id\": \"khan-algebra-1\",\n",
      "    \"thumbnail\": \"\"\n",
      "}\n"
     ]
    },
    {
     "name": "stderr",
     "output_type": "stream",
     "text": [
      "[0521/135927.242997:WARNING:runtime_features.cc(730)] AttributionReportingCrossAppWeb cannot be enabled in this configuration. Use --enable-features=ConversionMeasurement,AttributionReportingCrossAppWeb in addition.\n",
      "[0521/135927.279132:WARNING:runtime_features.cc(730)] AttributionReportingCrossAppWeb cannot be enabled in this configuration. Use --enable-features=ConversionMeasurement,AttributionReportingCrossAppWeb in addition.\n"
     ]
    },
    {
     "name": "stdout",
     "output_type": "stream",
     "text": [
      "{\n",
      "    \"name\": \"Age Word Problem: Imran\",\n",
      "    \"description\": \"Sal solves the following age word problem: In 40 years, Imran will be 11 times as old as he is right now. How old is he right now?\",\n",
      "    \"texts\": [\n",
      "        \"text1.md\"\n",
      "    ],\n",
      "    \"video_parts\": [\n",
      "        {\n",
      "            \"id\": \"KyHvVJWjW6Y\"\n",
      "        }\n",
      "    ],\n",
      "    \"node_type\": \"lecture\",\n",
      "    \"parent_id\": \"khan-algebra-1\",\n",
      "    \"thumbnail\": \"\"\n",
      "}\n"
     ]
    },
    {
     "name": "stderr",
     "output_type": "stream",
     "text": [
      "[0521/135942.776977:WARNING:runtime_features.cc(730)] AttributionReportingCrossAppWeb cannot be enabled in this configuration. Use --enable-features=ConversionMeasurement,AttributionReportingCrossAppWeb in addition.\n",
      "[0521/135942.812150:WARNING:runtime_features.cc(730)] AttributionReportingCrossAppWeb cannot be enabled in this configuration. Use --enable-features=ConversionMeasurement,AttributionReportingCrossAppWeb in addition.\n",
      "[0521/140009.329053:WARNING:runtime_features.cc(730)] AttributionReportingCrossAppWeb cannot be enabled in this configuration. Use --enable-features=ConversionMeasurement,AttributionReportingCrossAppWeb in addition.\n"
     ]
    },
    {
     "name": "stdout",
     "output_type": "stream",
     "text": [
      "{\n",
      "    \"name\": \"<Html><Head></Head><Body></Body></Html>\",\n",
      "    \"description\": \"<html><head></head><body></body></html>\",\n",
      "    \"texts\": [\n",
      "        \"text1.md\"\n",
      "    ],\n",
      "    \"video_parts\": [\n",
      "        {\n",
      "            \"id\": \"<html><head></head><body></body></html>\"\n",
      "        }\n",
      "    ],\n",
      "    \"node_type\": \"lecture\",\n",
      "    \"parent_id\": \"khan-algebra-1\",\n",
      "    \"thumbnail\": \"\"\n",
      "}\n"
     ]
    },
    {
     "name": "stderr",
     "output_type": "stream",
     "text": [
      "[0521/140009.563189:WARNING:runtime_features.cc(730)] AttributionReportingCrossAppWeb cannot be enabled in this configuration. Use --enable-features=ConversionMeasurement,AttributionReportingCrossAppWeb in addition.\n",
      "[0521/140009.598385:WARNING:runtime_features.cc(730)] AttributionReportingCrossAppWeb cannot be enabled in this configuration. Use --enable-features=ConversionMeasurement,AttributionReportingCrossAppWeb in addition.\n"
     ]
    }
   ],
   "source": [
    "\n",
    "topics = []\n",
    "for url in parser.urls[9:]:\n",
    "    video_url = site + url\n",
    "    video_html = get_html_from_url(video_url)\n",
    "    topic = get_topic(video_html)\n",
    "    print(json.dumps(topic, indent=4))\n",
    "    topics.append(topic)\n",
    "    \n",
    "\n",
    "topics\n",
    "    \n",
    "    \n",
    "    \n",
    "    "
   ]
  }
 ],
 "metadata": {
  "kernelspec": {
   "display_name": "Python 3 (ipykernel)",
   "language": "python",
   "name": "python3"
  },
  "language_info": {
   "codemirror_mode": {
    "name": "ipython",
    "version": 3
   },
   "file_extension": ".py",
   "mimetype": "text/x-python",
   "name": "python",
   "nbconvert_exporter": "python",
   "pygments_lexer": "ipython3",
   "version": "3.11.5"
  }
 },
 "nbformat": 4,
 "nbformat_minor": 5
}
