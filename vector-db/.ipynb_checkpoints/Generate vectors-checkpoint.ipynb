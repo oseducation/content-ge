{
 "cells": [
  {
   "cell_type": "code",
   "execution_count": 48,
   "id": "856086d6",
   "metadata": {},
   "outputs": [],
   "source": [
    "!pip install -qU \\\n",
    "pinecone-client==3.1.0\\\n",
    "tenacity==8.2.3\n",
    "\n",
    "\n"
   ]
  },
  {
   "cell_type": "code",
   "execution_count": 13,
   "id": "c0d90c5e",
   "metadata": {},
   "outputs": [],
   "source": [
    "import json\n",
    "import os\n",
    "\n",
    "baseFolder = '/Users/shota/github/content-ge/startup-school'\n",
    "nodesJSONFile = os.path.join(baseFolder, 'nodes.json')\n",
    "f = open(nodesJSONFile)\n",
    "nodes = json.load(f)\n",
    "f.close()\n"
   ]
  },
  {
   "cell_type": "code",
   "execution_count": 46,
   "id": "872c1f5b",
   "metadata": {},
   "outputs": [],
   "source": [
    "data = []\n",
    "for key, node in nodes.items():\n",
    "    textFileName = os.path.join(baseFolder, 'nodes', key, \"text1.md\")\n",
    "    with open(textFileName, 'r') as file:\n",
    "        text = file.read()\n",
    "        data.append({\n",
    "            'id': key,\n",
    "            'name': node['name'],\n",
    "            'text': text\n",
    "        })\n"
   ]
  },
  {
   "cell_type": "code",
   "execution_count": 56,
   "id": "6f86023c",
   "metadata": {},
   "outputs": [],
   "source": [
    "from openai import OpenAI\n",
    "orgID = %env CHAT_GPT_ORGANIZATION_ID\n",
    "api_key = %env CHAT_GPT_API_KEY\n",
    "\n",
    "openai_client = OpenAI(\n",
    "    api_key = api_key,\n",
    "    organization=orgID,\n",
    ")\n",
    "\n"
   ]
  },
  {
   "cell_type": "code",
   "execution_count": 61,
   "id": "d8fd346d",
   "metadata": {},
   "outputs": [],
   "source": [
    "from tenacity import retry, wait_random_exponential, stop_after_attempt\n",
    "\n",
    "# Retry up to 6 times with exponential backoff, starting at 1 second and maxing out at 20 seconds delay\n",
    "@retry(wait=wait_random_exponential(min=1, max=20), stop=stop_after_attempt(6))\n",
    "def get_embedding(text: str, model=\"text-embedding-3-small\") -> list[float]:\n",
    "    response = openai_client.embeddings.create(input=[text], model=model)\n",
    "    return response.data[0].embedding\n",
    "\n",
    "def get_vector(d):\n",
    "    emb = get_embedding(d['text'])\n",
    "    return {\n",
    "        \"id\": d['id'],\n",
    "        \"values\": emb,\n",
    "        \"metadata\": {\"name\": d['name']}\n",
    "    }\n",
    "\n",
    "def create_vector_json(data):\n",
    "    vectors = []\n",
    "    for d in data:\n",
    "        vec = get_vector(d)\n",
    "        vectors.append(vec)\n",
    "    with open(\"vectors.json\", \"w\") as f:\n",
    "        json.dump(vectors, f)\n",
    "        \n",
    "create_vector_json(data)\n"
   ]
  },
  {
   "cell_type": "code",
   "execution_count": 81,
   "id": "f8285281",
   "metadata": {},
   "outputs": [
    {
     "data": {
      "text/plain": [
       "{'dimension': 1536,\n",
       " 'index_fullness': 0.00244,\n",
       " 'namespaces': {'': {'vector_count': 244}},\n",
       " 'total_vector_count': 244}"
      ]
     },
     "execution_count": 81,
     "metadata": {},
     "output_type": "execute_result"
    }
   ],
   "source": [
    "from pinecone import Pinecone\n",
    "\n",
    "# pinecone_api_key = %env PINECONE_API_KEY\n",
    "pinecone_api_key = os.environ.get('PINECONE_API_KEY') or ''\n",
    "pc = Pinecone(api_key=pinecone_api_key)\n",
    "index_name = 'vitsi-ai-first-index'\n",
    "index = pc.Index(index_name)\n",
    "index.describe_index_stats()\n",
    "\n"
   ]
  },
  {
   "cell_type": "code",
   "execution_count": 69,
   "id": "dacdc917",
   "metadata": {},
   "outputs": [
    {
     "data": {
      "text/plain": [
       "{'upserted_count': 202}"
      ]
     },
     "execution_count": 69,
     "metadata": {},
     "output_type": "execute_result"
    }
   ],
   "source": [
    "\n",
    "f = open(\"vectors.json\")\n",
    "vectors = json.load(f)\n",
    "f.close()\n",
    "\n",
    "# vectors\n",
    "index.upsert(vectors)\n",
    "\n",
    "\n",
    "\n"
   ]
  },
  {
   "cell_type": "code",
   "execution_count": null,
   "id": "0d95f030",
   "metadata": {},
   "outputs": [],
   "source": []
  },
  {
   "cell_type": "code",
   "execution_count": 71,
   "id": "ccee8eb9",
   "metadata": {},
   "outputs": [
    {
     "data": {
      "text/plain": [
       "[{'id': 'show_video_1', 'message': 'show me a video', 'intent': 'show_video'},\n",
       " {'id': 'show_video_2',\n",
       "  'message': 'Could you play the video?',\n",
       "  'intent': 'show_video'},\n",
       " {'id': 'show_video_3',\n",
       "  'message': \"I'd like to see the video, please.\",\n",
       "  'intent': 'show_video'},\n",
       " {'id': 'show_video_4',\n",
       "  'message': 'Can you put on the video?',\n",
       "  'intent': 'show_video'},\n",
       " {'id': 'show_video_5',\n",
       "  'message': \"Let's watch the video.\",\n",
       "  'intent': 'show_video'},\n",
       " {'id': 'show_video_6',\n",
       "  'message': 'Would you mind displaying the video?',\n",
       "  'intent': 'show_video'},\n",
       " {'id': 'show_video_7',\n",
       "  'message': \"I'm interested in viewing the video.\",\n",
       "  'intent': 'show_video'},\n",
       " {'id': 'show_video_8',\n",
       "  'message': 'Could we check out the video?',\n",
       "  'intent': 'show_video'},\n",
       " {'id': 'show_video_9',\n",
       "  'message': 'Please, present the video.',\n",
       "  'intent': 'show_video'},\n",
       " {'id': 'show_video_10',\n",
       "  'message': \"I'm keen to watch the video.\",\n",
       "  'intent': 'show_video'},\n",
       " {'id': 'show_video_11',\n",
       "  'message': 'Can we have a look at the video?',\n",
       "  'intent': 'show_video'},\n",
       " {'id': 'show_video_12',\n",
       "  'message': \"I'd appreciate it if you could stream the video.\",\n",
       "  'intent': 'show_video'},\n",
       " {'id': 'show_video_13',\n",
       "  'message': \"Let's have the video on.\",\n",
       "  'intent': 'show_video'},\n",
       " {'id': 'show_video_14',\n",
       "  'message': 'May we watch the video now?',\n",
       "  'intent': 'show_video'},\n",
       " {'id': 'show_video_15',\n",
       "  'message': \"I'd be glad to see the video.\",\n",
       "  'intent': 'show_video'},\n",
       " {'id': 'show_video_16',\n",
       "  'message': 'Could you cue up the video?',\n",
       "  'intent': 'show_video'},\n",
       " {'id': 'show_video_17',\n",
       "  'message': \"Let's screen the video.\",\n",
       "  'intent': 'show_video'},\n",
       " {'id': 'show_video_18',\n",
       "  'message': 'Would it be possible to display the video?',\n",
       "  'intent': 'show_video'},\n",
       " {'id': 'show_video_19',\n",
       "  'message': \"I'm eager to see what's in the video.\",\n",
       "  'intent': 'show_video'},\n",
       " {'id': 'show_video_20',\n",
       "  'message': 'Can you share the video with us?',\n",
       "  'intent': 'show_video'},\n",
       " {'id': 'show_video_21',\n",
       "  'message': \"I'd love to take a look at the video.\",\n",
       "  'intent': 'show_video'},\n",
       " {'id': 'show_text_1', 'message': 'show me a text', 'intent': 'show_text'},\n",
       " {'id': 'show_text_2',\n",
       "  'message': 'Could you display the text for me?',\n",
       "  'intent': 'show_text'},\n",
       " {'id': 'show_text_3',\n",
       "  'message': \"I'd like to read the text, please.\",\n",
       "  'intent': 'show_text'},\n",
       " {'id': 'show_text_4',\n",
       "  'message': 'Can you share the text on screen?',\n",
       "  'intent': 'show_text'},\n",
       " {'id': 'show_text_5',\n",
       "  'message': \"Let's have a look at the text.\",\n",
       "  'intent': 'show_text'},\n",
       " {'id': 'show_text_6',\n",
       "  'message': 'Would you mind presenting the text?',\n",
       "  'intent': 'show_text'},\n",
       " {'id': 'show_text_7',\n",
       "  'message': \"I'm interested in examining the text.\",\n",
       "  'intent': 'show_text'},\n",
       " {'id': 'show_text_8',\n",
       "  'message': 'Could we review the text together?',\n",
       "  'intent': 'show_text'},\n",
       " {'id': 'show_text_9',\n",
       "  'message': 'Please, reveal the text.',\n",
       "  'intent': 'show_text'},\n",
       " {'id': 'show_text_10',\n",
       "  'message': \"I'm keen to go through the text.\",\n",
       "  'intent': 'show_text'},\n",
       " {'id': 'show_text_11',\n",
       "  'message': 'Can we check out the text content?',\n",
       "  'intent': 'show_text'},\n",
       " {'id': 'show_text_12',\n",
       "  'message': \"I'd appreciate it if you could unveil the text.\",\n",
       "  'intent': 'show_text'},\n",
       " {'id': 'show_text_13',\n",
       "  'message': \"Let's go over the text.\",\n",
       "  'intent': 'show_text'},\n",
       " {'id': 'show_text_14',\n",
       "  'message': 'May I see the text now?',\n",
       "  'intent': 'show_text'},\n",
       " {'id': 'show_text_15',\n",
       "  'message': \"I'd be glad to peruse the text.\",\n",
       "  'intent': 'show_text'},\n",
       " {'id': 'show_text_16',\n",
       "  'message': 'Could you bring up the text?',\n",
       "  'intent': 'show_text'},\n",
       " {'id': 'show_text_17',\n",
       "  'message': \"Let's read through the text.\",\n",
       "  'intent': 'show_text'},\n",
       " {'id': 'show_text_18',\n",
       "  'message': 'Would it be possible to project the text?',\n",
       "  'intent': 'show_text'},\n",
       " {'id': 'show_text_19',\n",
       "  'message': \"I'm eager to delve into the text.\",\n",
       "  'intent': 'show_text'},\n",
       " {'id': 'show_text_20',\n",
       "  'message': 'Can you provide the text for us?',\n",
       "  'intent': 'show_text'},\n",
       " {'id': 'show_text_21',\n",
       "  'message': \"I'd love to inspect the text.\",\n",
       "  'intent': 'show_text'}]"
      ]
     },
     "execution_count": 71,
     "metadata": {},
     "output_type": "execute_result"
    }
   ],
   "source": [
    "f=open(\"intents.json\")\n",
    "intents = json.load(f)\n",
    "f.close();\n",
    "\n",
    "intents"
   ]
  },
  {
   "cell_type": "code",
   "execution_count": 74,
   "id": "b1eeb3c0",
   "metadata": {},
   "outputs": [],
   "source": [
    "def get_intents_vector(d):\n",
    "    emb = get_embedding(d['message'])\n",
    "\n",
    "    return {\n",
    "        \"id\": d['id'],\n",
    "        \"values\": emb,\n",
    "        \"metadata\": {\"intent\": d['intent']}\n",
    "    }\n",
    "\n",
    "def create_intents_vector_json(data):\n",
    "    vectors = []\n",
    "    for d in intents:\n",
    "        vec = get_intents_vector(d)\n",
    "        vectors.append(vec)\n",
    "    with open(\"intents_vectors.json\", \"w\") as f:\n",
    "        json.dump(vectors, f)\n",
    "        \n",
    "create_intents_vector_json(data)"
   ]
  },
  {
   "cell_type": "code",
   "execution_count": 78,
   "id": "85c64bd3",
   "metadata": {},
   "outputs": [
    {
     "data": {
      "text/plain": [
       "{'upserted_count': 42}"
      ]
     },
     "execution_count": 78,
     "metadata": {},
     "output_type": "execute_result"
    }
   ],
   "source": [
    "f = open(\"intents_vectors.json\")\n",
    "vectors = json.load(f)\n",
    "f.close()\n",
    "\n",
    "# vectors\n",
    "index.upsert(vectors)\n"
   ]
  }
 ],
 "metadata": {
  "kernelspec": {
   "display_name": "Python 3 (ipykernel)",
   "language": "python",
   "name": "python3"
  },
  "language_info": {
   "codemirror_mode": {
    "name": "ipython",
    "version": 3
   },
   "file_extension": ".py",
   "mimetype": "text/x-python",
   "name": "python",
   "nbconvert_exporter": "python",
   "pygments_lexer": "ipython3",
   "version": "3.11.5"
  }
 },
 "nbformat": 4,
 "nbformat_minor": 5
}
