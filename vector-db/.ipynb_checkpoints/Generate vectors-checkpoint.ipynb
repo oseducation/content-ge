{
 "cells": [
  {
   "cell_type": "code",
   "execution_count": 48,
   "id": "61c1eb64",
   "metadata": {},
   "outputs": [],
   "source": [
    "!pip install -qU \\\n",
    "pinecone-client==3.1.0\\\n",
    "tenacity==8.2.3\n",
    "\n",
    "\n"
   ]
  },
  {
   "cell_type": "code",
   "execution_count": 13,
   "id": "7d69db60",
   "metadata": {},
   "outputs": [],
   "source": [
    "import json\n",
    "import os\n",
    "\n",
    "baseFolder = '/Users/shota/github/content-ge/startup-school'\n",
    "nodesJSONFile = os.path.join(baseFolder, 'nodes.json')\n",
    "f = open(nodesJSONFile)\n",
    "nodes = json.load(f)\n",
    "f.close()\n"
   ]
  },
  {
   "cell_type": "code",
   "execution_count": 46,
   "id": "fd40ed47",
   "metadata": {},
   "outputs": [],
   "source": [
    "data = []\n",
    "for key, node in nodes.items():\n",
    "    textFileName = os.path.join(baseFolder, 'nodes', key, \"text1.md\")\n",
    "    with open(textFileName, 'r') as file:\n",
    "        text = file.read()\n",
    "        data.append({\n",
    "            'id': key,\n",
    "            'name': node['name'],\n",
    "            'text': text\n",
    "        })\n"
   ]
  },
  {
   "cell_type": "code",
   "execution_count": 56,
   "id": "41ae4472",
   "metadata": {},
   "outputs": [],
   "source": [
    "from openai import OpenAI\n",
    "orgID = %env CHAT_GPT_ORGANIZATION_ID\n",
    "api_key = %env CHAT_GPT_API_KEY\n",
    "\n",
    "openai_client = OpenAI(\n",
    "    api_key = api_key,\n",
    "    organization=orgID,\n",
    ")\n",
    "\n"
   ]
  },
  {
   "cell_type": "code",
   "execution_count": 61,
   "id": "368bd87f",
   "metadata": {},
   "outputs": [],
   "source": [
    "from tenacity import retry, wait_random_exponential, stop_after_attempt\n",
    "\n",
    "# Retry up to 6 times with exponential backoff, starting at 1 second and maxing out at 20 seconds delay\n",
    "@retry(wait=wait_random_exponential(min=1, max=20), stop=stop_after_attempt(6))\n",
    "def get_embedding(text: str, model=\"text-embedding-3-small\") -> list[float]:\n",
    "    response = openai_client.embeddings.create(input=[text], model=model)\n",
    "    return response.data[0].embedding\n",
    "\n",
    "def get_vector(d):\n",
    "    emb = get_embedding(d['text'])\n",
    "    return {\n",
    "        \"id\": d['id'],\n",
    "        \"values\": emb,\n",
    "        \"metadata\": {\"name\": d['name']}\n",
    "    }\n",
    "\n",
    "def create_vector_json(data):\n",
    "    vectors = []\n",
    "    for d in data:\n",
    "        vec = get_vector(d)\n",
    "        vectors.append(vec)\n",
    "    with open(\"vectors.json\", \"w\") as f:\n",
    "        json.dump(vectors, f)\n",
    "        \n",
    "create_vector_json(data)\n"
   ]
  },
  {
   "cell_type": "code",
   "execution_count": 44,
   "id": "16118bb3",
   "metadata": {},
   "outputs": [
    {
     "data": {
      "text/plain": [
       "{'dimension': 1536,\n",
       " 'index_fullness': 0.0,\n",
       " 'namespaces': {},\n",
       " 'total_vector_count': 0}"
      ]
     },
     "execution_count": 44,
     "metadata": {},
     "output_type": "execute_result"
    }
   ],
   "source": [
    "from pinecone import Pinecone\n",
    "\n",
    "pinecone_api_key = %env CHAT_GPT_API_KEY\n",
    "# pinecone_api_key = os.environ.get('PINECONE_API_KEY') or 'xxx'\n",
    "pc = Pinecone(api_key=pinecone_api_key)\n",
    "index_name = 'vitsi-ai-first-index'\n",
    "index = pc.Index(index_name)\n",
    "index.describe_index_stats()\n",
    "\n"
   ]
  },
  {
   "cell_type": "code",
   "execution_count": 69,
   "id": "2051fca9",
   "metadata": {},
   "outputs": [
    {
     "data": {
      "text/plain": [
       "{'upserted_count': 202}"
      ]
     },
     "execution_count": 69,
     "metadata": {},
     "output_type": "execute_result"
    }
   ],
   "source": [
    "\n",
    "f = open(\"vectors.json\")\n",
    "vectors = json.load(f)\n",
    "f.close()\n",
    "\n",
    "# vectors\n",
    "index.upsert(vectors)\n",
    "\n",
    "\n",
    "\n"
   ]
  },
  {
   "cell_type": "code",
   "execution_count": null,
   "id": "66896762",
   "metadata": {},
   "outputs": [],
   "source": []
  }
 ],
 "metadata": {
  "kernelspec": {
   "display_name": "Python 3 (ipykernel)",
   "language": "python",
   "name": "python3"
  },
  "language_info": {
   "codemirror_mode": {
    "name": "ipython",
    "version": 3
   },
   "file_extension": ".py",
   "mimetype": "text/x-python",
   "name": "python",
   "nbconvert_exporter": "python",
   "pygments_lexer": "ipython3",
   "version": "3.11.5"
  }
 },
 "nbformat": 4,
 "nbformat_minor": 5
}
